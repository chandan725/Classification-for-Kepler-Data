{
 "cells": [
  {
   "cell_type": "markdown",
   "id": "fd0563ac",
   "metadata": {},
   "source": [
    "# ML Classification Algorithm"
   ]
  },
  {
   "cell_type": "markdown",
   "id": "817fdfd6",
   "metadata": {},
   "source": [
    "##  To classify the planets as Candidate/False positive/Confirmed "
   ]
  },
  {
   "cell_type": "markdown",
   "id": "c9d1c127",
   "metadata": {},
   "source": [
    "### Required Modules"
   ]
  },
  {
   "cell_type": "code",
   "execution_count": 1,
   "id": "b3732218",
   "metadata": {},
   "outputs": [],
   "source": [
    "import numpy as np\n",
    "import pandas as pd\n",
    "import matplotlib.pyplot as plt\n",
    "import seaborn as sns\n",
    "\n",
    "import warnings\n",
    "warnings.filterwarnings('ignore')"
   ]
  },
  {
   "cell_type": "code",
   "execution_count": 2,
   "id": "db937f0b",
   "metadata": {},
   "outputs": [],
   "source": [
    "from sklearn.preprocessing import MinMaxScaler, StandardScaler, LabelEncoder\n",
    "from sklearn.model_selection import train_test_split, GridSearchCV, RandomizedSearchCV\n",
    "from sklearn.pipeline import Pipeline\n",
    "from sklearn.ensemble import RandomForestClassifier\n",
    "from sklearn import metrics"
   ]
  },
  {
   "cell_type": "markdown",
   "id": "c6a1466f",
   "metadata": {},
   "source": [
    "### _dataset upload in pandas dataframe_"
   ]
  },
  {
   "cell_type": "code",
   "execution_count": 3,
   "id": "cbdedc6e",
   "metadata": {},
   "outputs": [],
   "source": [
    "df = pd.read_csv(\"C:/Users/chand/OneDrive/Desktop/kepler_data.csv\")\n"
   ]
  },
  {
   "cell_type": "markdown",
   "id": "b53afedc",
   "metadata": {},
   "source": [
    "### _dataset's columns & column description_"
   ]
  },
  {
   "cell_type": "code",
   "execution_count": 4,
   "id": "0725068d",
   "metadata": {},
   "outputs": [
    {
     "data": {
      "text/html": [
       "<div>\n",
       "<style scoped>\n",
       "    .dataframe tbody tr th:only-of-type {\n",
       "        vertical-align: middle;\n",
       "    }\n",
       "\n",
       "    .dataframe tbody tr th {\n",
       "        vertical-align: top;\n",
       "    }\n",
       "\n",
       "    .dataframe thead th {\n",
       "        text-align: right;\n",
       "    }\n",
       "</style>\n",
       "<table border=\"1\" class=\"dataframe\">\n",
       "  <thead>\n",
       "    <tr style=\"text-align: right;\">\n",
       "      <th></th>\n",
       "      <th>Column Header</th>\n",
       "      <th>Column Description</th>\n",
       "    </tr>\n",
       "  </thead>\n",
       "  <tbody>\n",
       "    <tr>\n",
       "      <th>0</th>\n",
       "      <td>kepid</td>\n",
       "      <td>KepID</td>\n",
       "    </tr>\n",
       "    <tr>\n",
       "      <th>1</th>\n",
       "      <td>kepoi_name</td>\n",
       "      <td>KOI Name</td>\n",
       "    </tr>\n",
       "    <tr>\n",
       "      <th>2</th>\n",
       "      <td>kepler_name</td>\n",
       "      <td>Kepler Name</td>\n",
       "    </tr>\n",
       "    <tr>\n",
       "      <th>3</th>\n",
       "      <td>koi_disposition</td>\n",
       "      <td>Exoplanet Archive Disposition</td>\n",
       "    </tr>\n",
       "    <tr>\n",
       "      <th>4</th>\n",
       "      <td>koi_pdisposition</td>\n",
       "      <td>Disposition Using Kepler Data</td>\n",
       "    </tr>\n",
       "    <tr>\n",
       "      <th>5</th>\n",
       "      <td>koi_score</td>\n",
       "      <td>Disposition Score</td>\n",
       "    </tr>\n",
       "    <tr>\n",
       "      <th>6</th>\n",
       "      <td>koi_fpflag_nt</td>\n",
       "      <td>Not Transit-Like False Positive Flag</td>\n",
       "    </tr>\n",
       "    <tr>\n",
       "      <th>7</th>\n",
       "      <td>koi_fpflag_ss</td>\n",
       "      <td>Stellar Eclipse False Positive Flag</td>\n",
       "    </tr>\n",
       "    <tr>\n",
       "      <th>8</th>\n",
       "      <td>koi_fpflag_co</td>\n",
       "      <td>Centroid Offset False Positive Flag</td>\n",
       "    </tr>\n",
       "    <tr>\n",
       "      <th>9</th>\n",
       "      <td>koi_fpflag_ec</td>\n",
       "      <td>Ephemeris Match Indicates Contamination False ...</td>\n",
       "    </tr>\n",
       "    <tr>\n",
       "      <th>10</th>\n",
       "      <td>koi_period</td>\n",
       "      <td>Orbital Period [days]</td>\n",
       "    </tr>\n",
       "    <tr>\n",
       "      <th>11</th>\n",
       "      <td>koi_period_err1</td>\n",
       "      <td>Orbital Period Upper Unc. [days]</td>\n",
       "    </tr>\n",
       "    <tr>\n",
       "      <th>12</th>\n",
       "      <td>koi_period_err2</td>\n",
       "      <td>Orbital Period Lower Unc. [days]</td>\n",
       "    </tr>\n",
       "    <tr>\n",
       "      <th>13</th>\n",
       "      <td>koi_time0bk</td>\n",
       "      <td>Transit Epoch [BKJD]</td>\n",
       "    </tr>\n",
       "    <tr>\n",
       "      <th>14</th>\n",
       "      <td>koi_time0bk_err1</td>\n",
       "      <td>Transit Epoch Upper Unc. [BKJD]</td>\n",
       "    </tr>\n",
       "    <tr>\n",
       "      <th>15</th>\n",
       "      <td>koi_time0bk_err2</td>\n",
       "      <td>Transit Epoch Lower Unc. [BKJD]</td>\n",
       "    </tr>\n",
       "    <tr>\n",
       "      <th>16</th>\n",
       "      <td>koi_impact</td>\n",
       "      <td>Impact Parameter</td>\n",
       "    </tr>\n",
       "    <tr>\n",
       "      <th>17</th>\n",
       "      <td>koi_impact_err1</td>\n",
       "      <td>Impact Parameter Upper Unc.</td>\n",
       "    </tr>\n",
       "    <tr>\n",
       "      <th>18</th>\n",
       "      <td>koi_impact_err2</td>\n",
       "      <td>Impact Parameter Lower Unc.</td>\n",
       "    </tr>\n",
       "    <tr>\n",
       "      <th>19</th>\n",
       "      <td>koi_duration</td>\n",
       "      <td>Transit Duration [hrs]</td>\n",
       "    </tr>\n",
       "    <tr>\n",
       "      <th>20</th>\n",
       "      <td>koi_duration_err1</td>\n",
       "      <td>Transit Duration Upper Unc. [hrs]</td>\n",
       "    </tr>\n",
       "    <tr>\n",
       "      <th>21</th>\n",
       "      <td>koi_duration_err2</td>\n",
       "      <td>Transit Duration Lower Unc. [hrs]</td>\n",
       "    </tr>\n",
       "    <tr>\n",
       "      <th>22</th>\n",
       "      <td>koi_depth</td>\n",
       "      <td>Transit Depth [ppm]</td>\n",
       "    </tr>\n",
       "    <tr>\n",
       "      <th>23</th>\n",
       "      <td>koi_depth_err1</td>\n",
       "      <td>Transit Depth Upper Unc. [ppm]</td>\n",
       "    </tr>\n",
       "    <tr>\n",
       "      <th>24</th>\n",
       "      <td>koi_depth_err2</td>\n",
       "      <td>Transit Depth Lower Unc. [ppm]</td>\n",
       "    </tr>\n",
       "    <tr>\n",
       "      <th>25</th>\n",
       "      <td>koi_prad</td>\n",
       "      <td>Planetary Radius [Earth radii]</td>\n",
       "    </tr>\n",
       "    <tr>\n",
       "      <th>26</th>\n",
       "      <td>koi_prad_err1</td>\n",
       "      <td>Planetary Radius Upper Unc. [Earth radii]</td>\n",
       "    </tr>\n",
       "    <tr>\n",
       "      <th>27</th>\n",
       "      <td>koi_prad_err2</td>\n",
       "      <td>Planetary Radius Lower Unc. [Earth radii]</td>\n",
       "    </tr>\n",
       "    <tr>\n",
       "      <th>28</th>\n",
       "      <td>koi_teq</td>\n",
       "      <td>Equilibrium Temperature [K]</td>\n",
       "    </tr>\n",
       "    <tr>\n",
       "      <th>29</th>\n",
       "      <td>koi_teq_err1</td>\n",
       "      <td>Equilibrium Temperature Upper Unc. [K]</td>\n",
       "    </tr>\n",
       "    <tr>\n",
       "      <th>30</th>\n",
       "      <td>koi_teq_err2</td>\n",
       "      <td>Equilibrium Temperature Lower Unc. [K]</td>\n",
       "    </tr>\n",
       "    <tr>\n",
       "      <th>31</th>\n",
       "      <td>koi_insol</td>\n",
       "      <td>Insolation Flux [Earth flux]</td>\n",
       "    </tr>\n",
       "    <tr>\n",
       "      <th>32</th>\n",
       "      <td>koi_insol_err1</td>\n",
       "      <td>Insolation Flux Upper Unc. [Earth flux]</td>\n",
       "    </tr>\n",
       "    <tr>\n",
       "      <th>33</th>\n",
       "      <td>koi_insol_err2</td>\n",
       "      <td>Insolation Flux Lower Unc. [Earth flux]</td>\n",
       "    </tr>\n",
       "    <tr>\n",
       "      <th>34</th>\n",
       "      <td>koi_model_snr</td>\n",
       "      <td>Transit Signal-to-Noise</td>\n",
       "    </tr>\n",
       "    <tr>\n",
       "      <th>35</th>\n",
       "      <td>koi_tce_plnt_num</td>\n",
       "      <td>TCE Planet Number</td>\n",
       "    </tr>\n",
       "    <tr>\n",
       "      <th>36</th>\n",
       "      <td>koi_tce_delivname</td>\n",
       "      <td>TCE Delivery</td>\n",
       "    </tr>\n",
       "    <tr>\n",
       "      <th>37</th>\n",
       "      <td>koi_steff</td>\n",
       "      <td>Stellar Effective Temperature [K]</td>\n",
       "    </tr>\n",
       "    <tr>\n",
       "      <th>38</th>\n",
       "      <td>koi_steff_err1</td>\n",
       "      <td>Stellar Effective Temperature Upper Unc. [K]</td>\n",
       "    </tr>\n",
       "    <tr>\n",
       "      <th>39</th>\n",
       "      <td>koi_steff_err2</td>\n",
       "      <td>Stellar Effective Temperature Lower Unc. [K]</td>\n",
       "    </tr>\n",
       "    <tr>\n",
       "      <th>40</th>\n",
       "      <td>koi_slogg</td>\n",
       "      <td>Stellar Surface Gravity [log10(cm/s**2)]</td>\n",
       "    </tr>\n",
       "    <tr>\n",
       "      <th>41</th>\n",
       "      <td>koi_slogg_err1</td>\n",
       "      <td>Stellar Surface Gravity Upper Unc. [log10(cm/s...</td>\n",
       "    </tr>\n",
       "    <tr>\n",
       "      <th>42</th>\n",
       "      <td>koi_slogg_err2</td>\n",
       "      <td>Stellar Surface Gravity Lower Unc. [log10(cm/s...</td>\n",
       "    </tr>\n",
       "    <tr>\n",
       "      <th>43</th>\n",
       "      <td>koi_srad</td>\n",
       "      <td>Stellar Radius [Solar radii]</td>\n",
       "    </tr>\n",
       "    <tr>\n",
       "      <th>44</th>\n",
       "      <td>koi_srad_err1</td>\n",
       "      <td>Stellar Radius Upper Unc. [Solar radii]</td>\n",
       "    </tr>\n",
       "    <tr>\n",
       "      <th>45</th>\n",
       "      <td>koi_srad_err2</td>\n",
       "      <td>Stellar Radius Lower Unc. [Solar radii]</td>\n",
       "    </tr>\n",
       "    <tr>\n",
       "      <th>46</th>\n",
       "      <td>ra</td>\n",
       "      <td>RA [decimal degrees]</td>\n",
       "    </tr>\n",
       "    <tr>\n",
       "      <th>47</th>\n",
       "      <td>dec</td>\n",
       "      <td>Dec [decimal degrees]</td>\n",
       "    </tr>\n",
       "    <tr>\n",
       "      <th>48</th>\n",
       "      <td>koi_kepmag</td>\n",
       "      <td>Kepler-band [mag]</td>\n",
       "    </tr>\n",
       "  </tbody>\n",
       "</table>\n",
       "</div>"
      ],
      "text/plain": [
       "        Column Header                                 Column Description\n",
       "0               kepid                                              KepID\n",
       "1          kepoi_name                                           KOI Name\n",
       "2         kepler_name                                        Kepler Name\n",
       "3     koi_disposition                      Exoplanet Archive Disposition\n",
       "4    koi_pdisposition                      Disposition Using Kepler Data\n",
       "5           koi_score                                  Disposition Score\n",
       "6       koi_fpflag_nt               Not Transit-Like False Positive Flag\n",
       "7       koi_fpflag_ss                Stellar Eclipse False Positive Flag\n",
       "8       koi_fpflag_co                Centroid Offset False Positive Flag\n",
       "9       koi_fpflag_ec  Ephemeris Match Indicates Contamination False ...\n",
       "10         koi_period                              Orbital Period [days]\n",
       "11    koi_period_err1                   Orbital Period Upper Unc. [days]\n",
       "12    koi_period_err2                   Orbital Period Lower Unc. [days]\n",
       "13        koi_time0bk                               Transit Epoch [BKJD]\n",
       "14   koi_time0bk_err1                    Transit Epoch Upper Unc. [BKJD]\n",
       "15   koi_time0bk_err2                    Transit Epoch Lower Unc. [BKJD]\n",
       "16         koi_impact                                   Impact Parameter\n",
       "17    koi_impact_err1                        Impact Parameter Upper Unc.\n",
       "18    koi_impact_err2                        Impact Parameter Lower Unc.\n",
       "19       koi_duration                             Transit Duration [hrs]\n",
       "20  koi_duration_err1                  Transit Duration Upper Unc. [hrs]\n",
       "21  koi_duration_err2                  Transit Duration Lower Unc. [hrs]\n",
       "22          koi_depth                                Transit Depth [ppm]\n",
       "23     koi_depth_err1                     Transit Depth Upper Unc. [ppm]\n",
       "24     koi_depth_err2                     Transit Depth Lower Unc. [ppm]\n",
       "25           koi_prad                     Planetary Radius [Earth radii]\n",
       "26      koi_prad_err1          Planetary Radius Upper Unc. [Earth radii]\n",
       "27      koi_prad_err2          Planetary Radius Lower Unc. [Earth radii]\n",
       "28            koi_teq                        Equilibrium Temperature [K]\n",
       "29       koi_teq_err1             Equilibrium Temperature Upper Unc. [K]\n",
       "30       koi_teq_err2             Equilibrium Temperature Lower Unc. [K]\n",
       "31          koi_insol                       Insolation Flux [Earth flux]\n",
       "32     koi_insol_err1            Insolation Flux Upper Unc. [Earth flux]\n",
       "33     koi_insol_err2            Insolation Flux Lower Unc. [Earth flux]\n",
       "34      koi_model_snr                            Transit Signal-to-Noise\n",
       "35   koi_tce_plnt_num                                  TCE Planet Number\n",
       "36  koi_tce_delivname                                       TCE Delivery\n",
       "37          koi_steff                  Stellar Effective Temperature [K]\n",
       "38     koi_steff_err1       Stellar Effective Temperature Upper Unc. [K]\n",
       "39     koi_steff_err2       Stellar Effective Temperature Lower Unc. [K]\n",
       "40          koi_slogg           Stellar Surface Gravity [log10(cm/s**2)]\n",
       "41     koi_slogg_err1  Stellar Surface Gravity Upper Unc. [log10(cm/s...\n",
       "42     koi_slogg_err2  Stellar Surface Gravity Lower Unc. [log10(cm/s...\n",
       "43           koi_srad                       Stellar Radius [Solar radii]\n",
       "44      koi_srad_err1            Stellar Radius Upper Unc. [Solar radii]\n",
       "45      koi_srad_err2            Stellar Radius Lower Unc. [Solar radii]\n",
       "46                 ra                               RA [decimal degrees]\n",
       "47                dec                              Dec [decimal degrees]\n",
       "48         koi_kepmag                                  Kepler-band [mag]"
      ]
     },
     "execution_count": 4,
     "metadata": {},
     "output_type": "execute_result"
    }
   ],
   "source": [
    "pd.read_excel(\"C:/Users/chand/OneDrive/Desktop/Kepler data columns info.xlsx\")"
   ]
  },
  {
   "cell_type": "markdown",
   "id": "5cdddcd6",
   "metadata": {},
   "source": [
    "### EDA (exploratory data analysis)"
   ]
  },
  {
   "cell_type": "code",
   "execution_count": 5,
   "id": "9c8a2c6f",
   "metadata": {},
   "outputs": [
    {
     "data": {
      "text/html": [
       "<div>\n",
       "<style scoped>\n",
       "    .dataframe tbody tr th:only-of-type {\n",
       "        vertical-align: middle;\n",
       "    }\n",
       "\n",
       "    .dataframe tbody tr th {\n",
       "        vertical-align: top;\n",
       "    }\n",
       "\n",
       "    .dataframe thead th {\n",
       "        text-align: right;\n",
       "    }\n",
       "</style>\n",
       "<table border=\"1\" class=\"dataframe\">\n",
       "  <thead>\n",
       "    <tr style=\"text-align: right;\">\n",
       "      <th></th>\n",
       "      <th>kepid</th>\n",
       "      <th>kepoi_name</th>\n",
       "      <th>kepler_name</th>\n",
       "      <th>koi_disposition</th>\n",
       "      <th>koi_pdisposition</th>\n",
       "      <th>koi_score</th>\n",
       "      <th>koi_fpflag_nt</th>\n",
       "      <th>koi_fpflag_ss</th>\n",
       "      <th>koi_fpflag_co</th>\n",
       "      <th>koi_fpflag_ec</th>\n",
       "      <th>...</th>\n",
       "      <th>koi_steff_err2</th>\n",
       "      <th>koi_slogg</th>\n",
       "      <th>koi_slogg_err1</th>\n",
       "      <th>koi_slogg_err2</th>\n",
       "      <th>koi_srad</th>\n",
       "      <th>koi_srad_err1</th>\n",
       "      <th>koi_srad_err2</th>\n",
       "      <th>ra</th>\n",
       "      <th>dec</th>\n",
       "      <th>koi_kepmag</th>\n",
       "    </tr>\n",
       "  </thead>\n",
       "  <tbody>\n",
       "    <tr>\n",
       "      <th>0</th>\n",
       "      <td>10797460</td>\n",
       "      <td>K00752.01</td>\n",
       "      <td>Kepler-227 b</td>\n",
       "      <td>CONFIRMED</td>\n",
       "      <td>CANDIDATE</td>\n",
       "      <td>1.000</td>\n",
       "      <td>0</td>\n",
       "      <td>0</td>\n",
       "      <td>0</td>\n",
       "      <td>0</td>\n",
       "      <td>...</td>\n",
       "      <td>-81.0</td>\n",
       "      <td>4.467</td>\n",
       "      <td>0.064</td>\n",
       "      <td>-0.096</td>\n",
       "      <td>0.927</td>\n",
       "      <td>0.105</td>\n",
       "      <td>-0.061</td>\n",
       "      <td>291.93423</td>\n",
       "      <td>48.141651</td>\n",
       "      <td>15.347</td>\n",
       "    </tr>\n",
       "    <tr>\n",
       "      <th>1</th>\n",
       "      <td>10797460</td>\n",
       "      <td>K00752.02</td>\n",
       "      <td>Kepler-227 c</td>\n",
       "      <td>CONFIRMED</td>\n",
       "      <td>CANDIDATE</td>\n",
       "      <td>0.969</td>\n",
       "      <td>0</td>\n",
       "      <td>0</td>\n",
       "      <td>0</td>\n",
       "      <td>0</td>\n",
       "      <td>...</td>\n",
       "      <td>-81.0</td>\n",
       "      <td>4.467</td>\n",
       "      <td>0.064</td>\n",
       "      <td>-0.096</td>\n",
       "      <td>0.927</td>\n",
       "      <td>0.105</td>\n",
       "      <td>-0.061</td>\n",
       "      <td>291.93423</td>\n",
       "      <td>48.141651</td>\n",
       "      <td>15.347</td>\n",
       "    </tr>\n",
       "    <tr>\n",
       "      <th>2</th>\n",
       "      <td>10811496</td>\n",
       "      <td>K00753.01</td>\n",
       "      <td>NaN</td>\n",
       "      <td>CANDIDATE</td>\n",
       "      <td>CANDIDATE</td>\n",
       "      <td>0.000</td>\n",
       "      <td>0</td>\n",
       "      <td>0</td>\n",
       "      <td>0</td>\n",
       "      <td>0</td>\n",
       "      <td>...</td>\n",
       "      <td>-176.0</td>\n",
       "      <td>4.544</td>\n",
       "      <td>0.044</td>\n",
       "      <td>-0.176</td>\n",
       "      <td>0.868</td>\n",
       "      <td>0.233</td>\n",
       "      <td>-0.078</td>\n",
       "      <td>297.00482</td>\n",
       "      <td>48.134129</td>\n",
       "      <td>15.436</td>\n",
       "    </tr>\n",
       "    <tr>\n",
       "      <th>3</th>\n",
       "      <td>10848459</td>\n",
       "      <td>K00754.01</td>\n",
       "      <td>NaN</td>\n",
       "      <td>FALSE POSITIVE</td>\n",
       "      <td>FALSE POSITIVE</td>\n",
       "      <td>0.000</td>\n",
       "      <td>0</td>\n",
       "      <td>1</td>\n",
       "      <td>0</td>\n",
       "      <td>0</td>\n",
       "      <td>...</td>\n",
       "      <td>-174.0</td>\n",
       "      <td>4.564</td>\n",
       "      <td>0.053</td>\n",
       "      <td>-0.168</td>\n",
       "      <td>0.791</td>\n",
       "      <td>0.201</td>\n",
       "      <td>-0.067</td>\n",
       "      <td>285.53461</td>\n",
       "      <td>48.285210</td>\n",
       "      <td>15.597</td>\n",
       "    </tr>\n",
       "    <tr>\n",
       "      <th>4</th>\n",
       "      <td>10854555</td>\n",
       "      <td>K00755.01</td>\n",
       "      <td>Kepler-664 b</td>\n",
       "      <td>CONFIRMED</td>\n",
       "      <td>CANDIDATE</td>\n",
       "      <td>1.000</td>\n",
       "      <td>0</td>\n",
       "      <td>0</td>\n",
       "      <td>0</td>\n",
       "      <td>0</td>\n",
       "      <td>...</td>\n",
       "      <td>-211.0</td>\n",
       "      <td>4.438</td>\n",
       "      <td>0.070</td>\n",
       "      <td>-0.210</td>\n",
       "      <td>1.046</td>\n",
       "      <td>0.334</td>\n",
       "      <td>-0.133</td>\n",
       "      <td>288.75488</td>\n",
       "      <td>48.226200</td>\n",
       "      <td>15.509</td>\n",
       "    </tr>\n",
       "  </tbody>\n",
       "</table>\n",
       "<p>5 rows × 49 columns</p>\n",
       "</div>"
      ],
      "text/plain": [
       "      kepid kepoi_name   kepler_name koi_disposition koi_pdisposition  \\\n",
       "0  10797460  K00752.01  Kepler-227 b       CONFIRMED        CANDIDATE   \n",
       "1  10797460  K00752.02  Kepler-227 c       CONFIRMED        CANDIDATE   \n",
       "2  10811496  K00753.01           NaN       CANDIDATE        CANDIDATE   \n",
       "3  10848459  K00754.01           NaN  FALSE POSITIVE   FALSE POSITIVE   \n",
       "4  10854555  K00755.01  Kepler-664 b       CONFIRMED        CANDIDATE   \n",
       "\n",
       "   koi_score  koi_fpflag_nt  koi_fpflag_ss  koi_fpflag_co  koi_fpflag_ec  ...  \\\n",
       "0      1.000              0              0              0              0  ...   \n",
       "1      0.969              0              0              0              0  ...   \n",
       "2      0.000              0              0              0              0  ...   \n",
       "3      0.000              0              1              0              0  ...   \n",
       "4      1.000              0              0              0              0  ...   \n",
       "\n",
       "   koi_steff_err2  koi_slogg  koi_slogg_err1  koi_slogg_err2  koi_srad  \\\n",
       "0           -81.0      4.467           0.064          -0.096     0.927   \n",
       "1           -81.0      4.467           0.064          -0.096     0.927   \n",
       "2          -176.0      4.544           0.044          -0.176     0.868   \n",
       "3          -174.0      4.564           0.053          -0.168     0.791   \n",
       "4          -211.0      4.438           0.070          -0.210     1.046   \n",
       "\n",
       "   koi_srad_err1  koi_srad_err2         ra        dec  koi_kepmag  \n",
       "0          0.105         -0.061  291.93423  48.141651      15.347  \n",
       "1          0.105         -0.061  291.93423  48.141651      15.347  \n",
       "2          0.233         -0.078  297.00482  48.134129      15.436  \n",
       "3          0.201         -0.067  285.53461  48.285210      15.597  \n",
       "4          0.334         -0.133  288.75488  48.226200      15.509  \n",
       "\n",
       "[5 rows x 49 columns]"
      ]
     },
     "execution_count": 5,
     "metadata": {},
     "output_type": "execute_result"
    }
   ],
   "source": [
    "# Top 5 rows\n",
    "df.head()"
   ]
  },
  {
   "cell_type": "code",
   "execution_count": 6,
   "id": "64bfee02",
   "metadata": {},
   "outputs": [
    {
     "name": "stdout",
     "output_type": "stream",
     "text": [
      "shape of Dataset:  (9564, 49)\n",
      "\n",
      "Dataset column name:  Index(['kepid', 'kepoi_name', 'kepler_name', 'koi_disposition',\n",
      "       'koi_pdisposition', 'koi_score', 'koi_fpflag_nt', 'koi_fpflag_ss',\n",
      "       'koi_fpflag_co', 'koi_fpflag_ec', 'koi_period', 'koi_period_err1',\n",
      "       'koi_period_err2', 'koi_time0bk', 'koi_time0bk_err1',\n",
      "       'koi_time0bk_err2', 'koi_impact', 'koi_impact_err1', 'koi_impact_err2',\n",
      "       'koi_duration', 'koi_duration_err1', 'koi_duration_err2', 'koi_depth',\n",
      "       'koi_depth_err1', 'koi_depth_err2', 'koi_prad', 'koi_prad_err1',\n",
      "       'koi_prad_err2', 'koi_teq', 'koi_teq_err1', 'koi_teq_err2', 'koi_insol',\n",
      "       'koi_insol_err1', 'koi_insol_err2', 'koi_model_snr', 'koi_tce_plnt_num',\n",
      "       'koi_tce_delivname', 'koi_steff', 'koi_steff_err1', 'koi_steff_err2',\n",
      "       'koi_slogg', 'koi_slogg_err1', 'koi_slogg_err2', 'koi_srad',\n",
      "       'koi_srad_err1', 'koi_srad_err2', 'ra', 'dec', 'koi_kepmag'],\n",
      "      dtype='object')\n"
     ]
    }
   ],
   "source": [
    "print('shape of Dataset: ', df.shape)\n",
    "print()\n",
    "print('Dataset column name: ', df.columns)"
   ]
  },
  {
   "cell_type": "markdown",
   "id": "3fe77ac4",
   "metadata": {},
   "source": [
    "#### dropping off the columns like 'kepoi_name', 'kepler_name', 'koi_pdisposition'"
   ]
  },
  {
   "cell_type": "code",
   "execution_count": 7,
   "id": "87dd5ecb",
   "metadata": {},
   "outputs": [],
   "source": [
    "df2 = df.drop(['kepoi_name', 'kepler_name', 'koi_pdisposition'], axis=1)"
   ]
  },
  {
   "cell_type": "code",
   "execution_count": 8,
   "id": "93526295",
   "metadata": {},
   "outputs": [
    {
     "name": "stdout",
     "output_type": "stream",
     "text": [
      "shape of Dataset:  (9564, 46)\n",
      "\n",
      "Dataset column name:  Index(['kepid', 'koi_disposition', 'koi_score', 'koi_fpflag_nt',\n",
      "       'koi_fpflag_ss', 'koi_fpflag_co', 'koi_fpflag_ec', 'koi_period',\n",
      "       'koi_period_err1', 'koi_period_err2', 'koi_time0bk', 'koi_time0bk_err1',\n",
      "       'koi_time0bk_err2', 'koi_impact', 'koi_impact_err1', 'koi_impact_err2',\n",
      "       'koi_duration', 'koi_duration_err1', 'koi_duration_err2', 'koi_depth',\n",
      "       'koi_depth_err1', 'koi_depth_err2', 'koi_prad', 'koi_prad_err1',\n",
      "       'koi_prad_err2', 'koi_teq', 'koi_teq_err1', 'koi_teq_err2', 'koi_insol',\n",
      "       'koi_insol_err1', 'koi_insol_err2', 'koi_model_snr', 'koi_tce_plnt_num',\n",
      "       'koi_tce_delivname', 'koi_steff', 'koi_steff_err1', 'koi_steff_err2',\n",
      "       'koi_slogg', 'koi_slogg_err1', 'koi_slogg_err2', 'koi_srad',\n",
      "       'koi_srad_err1', 'koi_srad_err2', 'ra', 'dec', 'koi_kepmag'],\n",
      "      dtype='object')\n"
     ]
    }
   ],
   "source": [
    "print('shape of Dataset: ', df2.shape)\n",
    "print()\n",
    "print('Dataset column name: ', df2.columns)"
   ]
  },
  {
   "cell_type": "code",
   "execution_count": 9,
   "id": "408cb0b1",
   "metadata": {},
   "outputs": [
    {
     "data": {
      "text/html": [
       "<div>\n",
       "<style scoped>\n",
       "    .dataframe tbody tr th:only-of-type {\n",
       "        vertical-align: middle;\n",
       "    }\n",
       "\n",
       "    .dataframe tbody tr th {\n",
       "        vertical-align: top;\n",
       "    }\n",
       "\n",
       "    .dataframe thead th {\n",
       "        text-align: right;\n",
       "    }\n",
       "</style>\n",
       "<table border=\"1\" class=\"dataframe\">\n",
       "  <thead>\n",
       "    <tr style=\"text-align: right;\">\n",
       "      <th></th>\n",
       "      <th>kepid</th>\n",
       "      <th>koi_disposition</th>\n",
       "      <th>koi_score</th>\n",
       "      <th>koi_fpflag_nt</th>\n",
       "      <th>koi_fpflag_ss</th>\n",
       "      <th>koi_fpflag_co</th>\n",
       "      <th>koi_fpflag_ec</th>\n",
       "      <th>koi_period</th>\n",
       "      <th>koi_period_err1</th>\n",
       "      <th>koi_period_err2</th>\n",
       "      <th>...</th>\n",
       "      <th>koi_steff_err2</th>\n",
       "      <th>koi_slogg</th>\n",
       "      <th>koi_slogg_err1</th>\n",
       "      <th>koi_slogg_err2</th>\n",
       "      <th>koi_srad</th>\n",
       "      <th>koi_srad_err1</th>\n",
       "      <th>koi_srad_err2</th>\n",
       "      <th>ra</th>\n",
       "      <th>dec</th>\n",
       "      <th>koi_kepmag</th>\n",
       "    </tr>\n",
       "  </thead>\n",
       "  <tbody>\n",
       "    <tr>\n",
       "      <th>0</th>\n",
       "      <td>10797460</td>\n",
       "      <td>CONFIRMED</td>\n",
       "      <td>1.000</td>\n",
       "      <td>0</td>\n",
       "      <td>0</td>\n",
       "      <td>0</td>\n",
       "      <td>0</td>\n",
       "      <td>9.488036</td>\n",
       "      <td>2.780000e-05</td>\n",
       "      <td>-2.780000e-05</td>\n",
       "      <td>...</td>\n",
       "      <td>-81.0</td>\n",
       "      <td>4.467</td>\n",
       "      <td>0.064</td>\n",
       "      <td>-0.096</td>\n",
       "      <td>0.927</td>\n",
       "      <td>0.105</td>\n",
       "      <td>-0.061</td>\n",
       "      <td>291.93423</td>\n",
       "      <td>48.141651</td>\n",
       "      <td>15.347</td>\n",
       "    </tr>\n",
       "    <tr>\n",
       "      <th>1</th>\n",
       "      <td>10797460</td>\n",
       "      <td>CONFIRMED</td>\n",
       "      <td>0.969</td>\n",
       "      <td>0</td>\n",
       "      <td>0</td>\n",
       "      <td>0</td>\n",
       "      <td>0</td>\n",
       "      <td>54.418383</td>\n",
       "      <td>2.480000e-04</td>\n",
       "      <td>-2.480000e-04</td>\n",
       "      <td>...</td>\n",
       "      <td>-81.0</td>\n",
       "      <td>4.467</td>\n",
       "      <td>0.064</td>\n",
       "      <td>-0.096</td>\n",
       "      <td>0.927</td>\n",
       "      <td>0.105</td>\n",
       "      <td>-0.061</td>\n",
       "      <td>291.93423</td>\n",
       "      <td>48.141651</td>\n",
       "      <td>15.347</td>\n",
       "    </tr>\n",
       "    <tr>\n",
       "      <th>2</th>\n",
       "      <td>10811496</td>\n",
       "      <td>CANDIDATE</td>\n",
       "      <td>0.000</td>\n",
       "      <td>0</td>\n",
       "      <td>0</td>\n",
       "      <td>0</td>\n",
       "      <td>0</td>\n",
       "      <td>19.899140</td>\n",
       "      <td>1.490000e-05</td>\n",
       "      <td>-1.490000e-05</td>\n",
       "      <td>...</td>\n",
       "      <td>-176.0</td>\n",
       "      <td>4.544</td>\n",
       "      <td>0.044</td>\n",
       "      <td>-0.176</td>\n",
       "      <td>0.868</td>\n",
       "      <td>0.233</td>\n",
       "      <td>-0.078</td>\n",
       "      <td>297.00482</td>\n",
       "      <td>48.134129</td>\n",
       "      <td>15.436</td>\n",
       "    </tr>\n",
       "    <tr>\n",
       "      <th>3</th>\n",
       "      <td>10848459</td>\n",
       "      <td>FALSE POSITIVE</td>\n",
       "      <td>0.000</td>\n",
       "      <td>0</td>\n",
       "      <td>1</td>\n",
       "      <td>0</td>\n",
       "      <td>0</td>\n",
       "      <td>1.736952</td>\n",
       "      <td>2.630000e-07</td>\n",
       "      <td>-2.630000e-07</td>\n",
       "      <td>...</td>\n",
       "      <td>-174.0</td>\n",
       "      <td>4.564</td>\n",
       "      <td>0.053</td>\n",
       "      <td>-0.168</td>\n",
       "      <td>0.791</td>\n",
       "      <td>0.201</td>\n",
       "      <td>-0.067</td>\n",
       "      <td>285.53461</td>\n",
       "      <td>48.285210</td>\n",
       "      <td>15.597</td>\n",
       "    </tr>\n",
       "    <tr>\n",
       "      <th>4</th>\n",
       "      <td>10854555</td>\n",
       "      <td>CONFIRMED</td>\n",
       "      <td>1.000</td>\n",
       "      <td>0</td>\n",
       "      <td>0</td>\n",
       "      <td>0</td>\n",
       "      <td>0</td>\n",
       "      <td>2.525592</td>\n",
       "      <td>3.760000e-06</td>\n",
       "      <td>-3.760000e-06</td>\n",
       "      <td>...</td>\n",
       "      <td>-211.0</td>\n",
       "      <td>4.438</td>\n",
       "      <td>0.070</td>\n",
       "      <td>-0.210</td>\n",
       "      <td>1.046</td>\n",
       "      <td>0.334</td>\n",
       "      <td>-0.133</td>\n",
       "      <td>288.75488</td>\n",
       "      <td>48.226200</td>\n",
       "      <td>15.509</td>\n",
       "    </tr>\n",
       "  </tbody>\n",
       "</table>\n",
       "<p>5 rows × 46 columns</p>\n",
       "</div>"
      ],
      "text/plain": [
       "      kepid koi_disposition  koi_score  koi_fpflag_nt  koi_fpflag_ss  \\\n",
       "0  10797460       CONFIRMED      1.000              0              0   \n",
       "1  10797460       CONFIRMED      0.969              0              0   \n",
       "2  10811496       CANDIDATE      0.000              0              0   \n",
       "3  10848459  FALSE POSITIVE      0.000              0              1   \n",
       "4  10854555       CONFIRMED      1.000              0              0   \n",
       "\n",
       "   koi_fpflag_co  koi_fpflag_ec  koi_period  koi_period_err1  koi_period_err2  \\\n",
       "0              0              0    9.488036     2.780000e-05    -2.780000e-05   \n",
       "1              0              0   54.418383     2.480000e-04    -2.480000e-04   \n",
       "2              0              0   19.899140     1.490000e-05    -1.490000e-05   \n",
       "3              0              0    1.736952     2.630000e-07    -2.630000e-07   \n",
       "4              0              0    2.525592     3.760000e-06    -3.760000e-06   \n",
       "\n",
       "   ...  koi_steff_err2  koi_slogg  koi_slogg_err1  koi_slogg_err2  koi_srad  \\\n",
       "0  ...           -81.0      4.467           0.064          -0.096     0.927   \n",
       "1  ...           -81.0      4.467           0.064          -0.096     0.927   \n",
       "2  ...          -176.0      4.544           0.044          -0.176     0.868   \n",
       "3  ...          -174.0      4.564           0.053          -0.168     0.791   \n",
       "4  ...          -211.0      4.438           0.070          -0.210     1.046   \n",
       "\n",
       "   koi_srad_err1  koi_srad_err2         ra        dec  koi_kepmag  \n",
       "0          0.105         -0.061  291.93423  48.141651      15.347  \n",
       "1          0.105         -0.061  291.93423  48.141651      15.347  \n",
       "2          0.233         -0.078  297.00482  48.134129      15.436  \n",
       "3          0.201         -0.067  285.53461  48.285210      15.597  \n",
       "4          0.334         -0.133  288.75488  48.226200      15.509  \n",
       "\n",
       "[5 rows x 46 columns]"
      ]
     },
     "execution_count": 9,
     "metadata": {},
     "output_type": "execute_result"
    }
   ],
   "source": [
    "# Top 5 rows\n",
    "df2.head()"
   ]
  },
  {
   "cell_type": "code",
   "execution_count": 10,
   "id": "687c9f34",
   "metadata": {},
   "outputs": [
    {
     "name": "stdout",
     "output_type": "stream",
     "text": [
      "<class 'pandas.core.frame.DataFrame'>\n",
      "RangeIndex: 9564 entries, 0 to 9563\n",
      "Data columns (total 46 columns):\n",
      " #   Column             Non-Null Count  Dtype  \n",
      "---  ------             --------------  -----  \n",
      " 0   kepid              9564 non-null   int64  \n",
      " 1   koi_disposition    9564 non-null   object \n",
      " 2   koi_score          8054 non-null   float64\n",
      " 3   koi_fpflag_nt      9564 non-null   int64  \n",
      " 4   koi_fpflag_ss      9564 non-null   int64  \n",
      " 5   koi_fpflag_co      9564 non-null   int64  \n",
      " 6   koi_fpflag_ec      9564 non-null   int64  \n",
      " 7   koi_period         9564 non-null   float64\n",
      " 8   koi_period_err1    9110 non-null   float64\n",
      " 9   koi_period_err2    9110 non-null   float64\n",
      " 10  koi_time0bk        9564 non-null   float64\n",
      " 11  koi_time0bk_err1   9110 non-null   float64\n",
      " 12  koi_time0bk_err2   9110 non-null   float64\n",
      " 13  koi_impact         9201 non-null   float64\n",
      " 14  koi_impact_err1    9110 non-null   float64\n",
      " 15  koi_impact_err2    9110 non-null   float64\n",
      " 16  koi_duration       9564 non-null   float64\n",
      " 17  koi_duration_err1  9110 non-null   float64\n",
      " 18  koi_duration_err2  9110 non-null   float64\n",
      " 19  koi_depth          9201 non-null   float64\n",
      " 20  koi_depth_err1     9110 non-null   float64\n",
      " 21  koi_depth_err2     9110 non-null   float64\n",
      " 22  koi_prad           9201 non-null   float64\n",
      " 23  koi_prad_err1      9201 non-null   float64\n",
      " 24  koi_prad_err2      9201 non-null   float64\n",
      " 25  koi_teq            9201 non-null   float64\n",
      " 26  koi_teq_err1       0 non-null      float64\n",
      " 27  koi_teq_err2       0 non-null      float64\n",
      " 28  koi_insol          9243 non-null   float64\n",
      " 29  koi_insol_err1     9243 non-null   float64\n",
      " 30  koi_insol_err2     9243 non-null   float64\n",
      " 31  koi_model_snr      9201 non-null   float64\n",
      " 32  koi_tce_plnt_num   9218 non-null   float64\n",
      " 33  koi_tce_delivname  9218 non-null   object \n",
      " 34  koi_steff          9201 non-null   float64\n",
      " 35  koi_steff_err1     9096 non-null   float64\n",
      " 36  koi_steff_err2     9081 non-null   float64\n",
      " 37  koi_slogg          9201 non-null   float64\n",
      " 38  koi_slogg_err1     9096 non-null   float64\n",
      " 39  koi_slogg_err2     9096 non-null   float64\n",
      " 40  koi_srad           9201 non-null   float64\n",
      " 41  koi_srad_err1      9096 non-null   float64\n",
      " 42  koi_srad_err2      9096 non-null   float64\n",
      " 43  ra                 9564 non-null   float64\n",
      " 44  dec                9564 non-null   float64\n",
      " 45  koi_kepmag         9563 non-null   float64\n",
      "dtypes: float64(39), int64(5), object(2)\n",
      "memory usage: 3.4+ MB\n"
     ]
    }
   ],
   "source": [
    "df2.info()"
   ]
  },
  {
   "cell_type": "code",
   "execution_count": 11,
   "id": "3089058c",
   "metadata": {},
   "outputs": [
    {
     "data": {
      "text/plain": [
       "kepid                   0\n",
       "koi_disposition         0\n",
       "koi_score            1510\n",
       "koi_fpflag_nt           0\n",
       "koi_fpflag_ss           0\n",
       "koi_fpflag_co           0\n",
       "koi_fpflag_ec           0\n",
       "koi_period              0\n",
       "koi_period_err1       454\n",
       "koi_period_err2       454\n",
       "koi_time0bk             0\n",
       "koi_time0bk_err1      454\n",
       "koi_time0bk_err2      454\n",
       "koi_impact            363\n",
       "koi_impact_err1       454\n",
       "koi_impact_err2       454\n",
       "koi_duration            0\n",
       "koi_duration_err1     454\n",
       "koi_duration_err2     454\n",
       "koi_depth             363\n",
       "koi_depth_err1        454\n",
       "koi_depth_err2        454\n",
       "koi_prad              363\n",
       "koi_prad_err1         363\n",
       "koi_prad_err2         363\n",
       "koi_teq               363\n",
       "koi_teq_err1         9564\n",
       "koi_teq_err2         9564\n",
       "koi_insol             321\n",
       "koi_insol_err1        321\n",
       "koi_insol_err2        321\n",
       "koi_model_snr         363\n",
       "koi_tce_plnt_num      346\n",
       "koi_tce_delivname     346\n",
       "koi_steff             363\n",
       "koi_steff_err1        468\n",
       "koi_steff_err2        483\n",
       "koi_slogg             363\n",
       "koi_slogg_err1        468\n",
       "koi_slogg_err2        468\n",
       "koi_srad              363\n",
       "koi_srad_err1         468\n",
       "koi_srad_err2         468\n",
       "ra                      0\n",
       "dec                     0\n",
       "koi_kepmag              1\n",
       "dtype: int64"
      ]
     },
     "execution_count": 11,
     "metadata": {},
     "output_type": "execute_result"
    }
   ],
   "source": [
    "# null-value check by each column\n",
    "df2.isnull().sum()"
   ]
  },
  {
   "cell_type": "markdown",
   "id": "aff45a1b",
   "metadata": {},
   "source": [
    "#### _dropping-off the null-columns ('koi_teq_err1', 'koi_teq_err2')_"
   ]
  },
  {
   "cell_type": "code",
   "execution_count": 12,
   "id": "dfe56be0",
   "metadata": {},
   "outputs": [],
   "source": [
    "df3 = df2.drop(['koi_teq_err1', 'koi_teq_err2'], axis=1)"
   ]
  },
  {
   "cell_type": "code",
   "execution_count": 13,
   "id": "d0199ea7",
   "metadata": {},
   "outputs": [
    {
     "name": "stdout",
     "output_type": "stream",
     "text": [
      "shape of Dataset:  (9564, 44)\n",
      "\n",
      "Dataset column name:  Index(['kepid', 'koi_disposition', 'koi_score', 'koi_fpflag_nt',\n",
      "       'koi_fpflag_ss', 'koi_fpflag_co', 'koi_fpflag_ec', 'koi_period',\n",
      "       'koi_period_err1', 'koi_period_err2', 'koi_time0bk', 'koi_time0bk_err1',\n",
      "       'koi_time0bk_err2', 'koi_impact', 'koi_impact_err1', 'koi_impact_err2',\n",
      "       'koi_duration', 'koi_duration_err1', 'koi_duration_err2', 'koi_depth',\n",
      "       'koi_depth_err1', 'koi_depth_err2', 'koi_prad', 'koi_prad_err1',\n",
      "       'koi_prad_err2', 'koi_teq', 'koi_insol', 'koi_insol_err1',\n",
      "       'koi_insol_err2', 'koi_model_snr', 'koi_tce_plnt_num',\n",
      "       'koi_tce_delivname', 'koi_steff', 'koi_steff_err1', 'koi_steff_err2',\n",
      "       'koi_slogg', 'koi_slogg_err1', 'koi_slogg_err2', 'koi_srad',\n",
      "       'koi_srad_err1', 'koi_srad_err2', 'ra', 'dec', 'koi_kepmag'],\n",
      "      dtype='object')\n"
     ]
    }
   ],
   "source": [
    "print('shape of Dataset: ', df3.shape)\n",
    "print()\n",
    "print('Dataset column name: ', df3.columns)"
   ]
  },
  {
   "cell_type": "code",
   "execution_count": 14,
   "id": "e9039368",
   "metadata": {},
   "outputs": [
    {
     "data": {
      "text/plain": [
       "kepid                   0\n",
       "koi_disposition         0\n",
       "koi_score            1510\n",
       "koi_fpflag_nt           0\n",
       "koi_fpflag_ss           0\n",
       "koi_fpflag_co           0\n",
       "koi_fpflag_ec           0\n",
       "koi_period              0\n",
       "koi_period_err1       454\n",
       "koi_period_err2       454\n",
       "koi_time0bk             0\n",
       "koi_time0bk_err1      454\n",
       "koi_time0bk_err2      454\n",
       "koi_impact            363\n",
       "koi_impact_err1       454\n",
       "koi_impact_err2       454\n",
       "koi_duration            0\n",
       "koi_duration_err1     454\n",
       "koi_duration_err2     454\n",
       "koi_depth             363\n",
       "koi_depth_err1        454\n",
       "koi_depth_err2        454\n",
       "koi_prad              363\n",
       "koi_prad_err1         363\n",
       "koi_prad_err2         363\n",
       "koi_teq               363\n",
       "koi_insol             321\n",
       "koi_insol_err1        321\n",
       "koi_insol_err2        321\n",
       "koi_model_snr         363\n",
       "koi_tce_plnt_num      346\n",
       "koi_tce_delivname     346\n",
       "koi_steff             363\n",
       "koi_steff_err1        468\n",
       "koi_steff_err2        483\n",
       "koi_slogg             363\n",
       "koi_slogg_err1        468\n",
       "koi_slogg_err2        468\n",
       "koi_srad              363\n",
       "koi_srad_err1         468\n",
       "koi_srad_err2         468\n",
       "ra                      0\n",
       "dec                     0\n",
       "koi_kepmag              1\n",
       "dtype: int64"
      ]
     },
     "execution_count": 14,
     "metadata": {},
     "output_type": "execute_result"
    }
   ],
   "source": [
    "df3.isnull().sum()"
   ]
  },
  {
   "cell_type": "markdown",
   "id": "4c1a1ff7",
   "metadata": {},
   "source": [
    "#### replacing the null-value of numerical columns by its mean value"
   ]
  },
  {
   "cell_type": "code",
   "execution_count": 15,
   "id": "07c9b216",
   "metadata": {},
   "outputs": [],
   "source": [
    "for col in df3.columns:\n",
    "    if df3[col].dtype != object:\n",
    "        df3[col].fillna(value=df3[col].mean(), inplace=True)"
   ]
  },
  {
   "cell_type": "code",
   "execution_count": 16,
   "id": "fc4d1f45",
   "metadata": {},
   "outputs": [
    {
     "data": {
      "text/plain": [
       "kepid                  0\n",
       "koi_disposition        0\n",
       "koi_score              0\n",
       "koi_fpflag_nt          0\n",
       "koi_fpflag_ss          0\n",
       "koi_fpflag_co          0\n",
       "koi_fpflag_ec          0\n",
       "koi_period             0\n",
       "koi_period_err1        0\n",
       "koi_period_err2        0\n",
       "koi_time0bk            0\n",
       "koi_time0bk_err1       0\n",
       "koi_time0bk_err2       0\n",
       "koi_impact             0\n",
       "koi_impact_err1        0\n",
       "koi_impact_err2        0\n",
       "koi_duration           0\n",
       "koi_duration_err1      0\n",
       "koi_duration_err2      0\n",
       "koi_depth              0\n",
       "koi_depth_err1         0\n",
       "koi_depth_err2         0\n",
       "koi_prad               0\n",
       "koi_prad_err1          0\n",
       "koi_prad_err2          0\n",
       "koi_teq                0\n",
       "koi_insol              0\n",
       "koi_insol_err1         0\n",
       "koi_insol_err2         0\n",
       "koi_model_snr          0\n",
       "koi_tce_plnt_num       0\n",
       "koi_tce_delivname    346\n",
       "koi_steff              0\n",
       "koi_steff_err1         0\n",
       "koi_steff_err2         0\n",
       "koi_slogg              0\n",
       "koi_slogg_err1         0\n",
       "koi_slogg_err2         0\n",
       "koi_srad               0\n",
       "koi_srad_err1          0\n",
       "koi_srad_err2          0\n",
       "ra                     0\n",
       "dec                    0\n",
       "koi_kepmag             0\n",
       "dtype: int64"
      ]
     },
     "execution_count": 16,
     "metadata": {},
     "output_type": "execute_result"
    }
   ],
   "source": [
    "df3.isna().sum()"
   ]
  },
  {
   "cell_type": "markdown",
   "id": "214a780e",
   "metadata": {},
   "source": [
    "### manipulation of categorical (feature) column ('koi_tce_delivname')"
   ]
  },
  {
   "cell_type": "code",
   "execution_count": 17,
   "id": "ca77c3b5",
   "metadata": {},
   "outputs": [
    {
     "name": "stdout",
     "output_type": "stream",
     "text": [
      "category present in column:  ['q1_q17_dr25_tce' 'q1_q16_tce' nan 'q1_q17_dr24_tce']\n",
      "\n",
      "category-wise count: \n",
      " koi_tce_delivname\n",
      "q1_q17_dr25_tce    8054\n",
      "q1_q16_tce          796\n",
      "q1_q17_dr24_tce     368\n",
      "Name: count, dtype: int64\n"
     ]
    }
   ],
   "source": [
    "print('category present in column: ', df3['koi_tce_delivname'].unique())\n",
    "print()\n",
    "print('category-wise count: \\n', df3['koi_tce_delivname'].value_counts())"
   ]
  },
  {
   "cell_type": "code",
   "execution_count": 18,
   "id": "e7cdbd8e",
   "metadata": {},
   "outputs": [
    {
     "name": "stdout",
     "output_type": "stream",
     "text": [
      "nan-value present in koi_tce_delivname column:  346\n"
     ]
    }
   ],
   "source": [
    "print('nan-value present in koi_tce_delivname column: ', df3['koi_tce_delivname'].isna().sum())"
   ]
  },
  {
   "cell_type": "code",
   "execution_count": 19,
   "id": "05ba76da",
   "metadata": {},
   "outputs": [],
   "source": [
    "# dropping-off those nan-value from koi_tce_delivname column\n",
    "df3.dropna(axis=0, inplace=True)"
   ]
  },
  {
   "cell_type": "code",
   "execution_count": 20,
   "id": "63f57d15",
   "metadata": {},
   "outputs": [
    {
     "name": "stdout",
     "output_type": "stream",
     "text": [
      "category present in column:  ['q1_q17_dr25_tce' 'q1_q16_tce' 'q1_q17_dr24_tce']\n",
      "\n",
      "category-wise count for column:  koi_tce_delivname\n",
      "q1_q17_dr25_tce    8054\n",
      "q1_q16_tce          796\n",
      "q1_q17_dr24_tce     368\n",
      "Name: count, dtype: int64\n"
     ]
    }
   ],
   "source": [
    "print('category present in column: ', df3['koi_tce_delivname'].unique())\n",
    "print()\n",
    "print('category-wise count for column: ', df3['koi_tce_delivname'].value_counts())"
   ]
  },
  {
   "cell_type": "code",
   "execution_count": 21,
   "id": "912e9fed",
   "metadata": {},
   "outputs": [
    {
     "data": {
      "text/html": [
       "<div>\n",
       "<style scoped>\n",
       "    .dataframe tbody tr th:only-of-type {\n",
       "        vertical-align: middle;\n",
       "    }\n",
       "\n",
       "    .dataframe tbody tr th {\n",
       "        vertical-align: top;\n",
       "    }\n",
       "\n",
       "    .dataframe thead th {\n",
       "        text-align: right;\n",
       "    }\n",
       "</style>\n",
       "<table border=\"1\" class=\"dataframe\">\n",
       "  <thead>\n",
       "    <tr style=\"text-align: right;\">\n",
       "      <th></th>\n",
       "      <th>q1_q17_dr24_tce</th>\n",
       "      <th>q1_q17_dr25_tce</th>\n",
       "    </tr>\n",
       "  </thead>\n",
       "  <tbody>\n",
       "    <tr>\n",
       "      <th>0</th>\n",
       "      <td>0</td>\n",
       "      <td>1</td>\n",
       "    </tr>\n",
       "    <tr>\n",
       "      <th>1</th>\n",
       "      <td>0</td>\n",
       "      <td>1</td>\n",
       "    </tr>\n",
       "    <tr>\n",
       "      <th>2</th>\n",
       "      <td>0</td>\n",
       "      <td>1</td>\n",
       "    </tr>\n",
       "    <tr>\n",
       "      <th>3</th>\n",
       "      <td>0</td>\n",
       "      <td>1</td>\n",
       "    </tr>\n",
       "    <tr>\n",
       "      <th>4</th>\n",
       "      <td>0</td>\n",
       "      <td>1</td>\n",
       "    </tr>\n",
       "    <tr>\n",
       "      <th>...</th>\n",
       "      <td>...</td>\n",
       "      <td>...</td>\n",
       "    </tr>\n",
       "    <tr>\n",
       "      <th>9559</th>\n",
       "      <td>0</td>\n",
       "      <td>1</td>\n",
       "    </tr>\n",
       "    <tr>\n",
       "      <th>9560</th>\n",
       "      <td>0</td>\n",
       "      <td>1</td>\n",
       "    </tr>\n",
       "    <tr>\n",
       "      <th>9561</th>\n",
       "      <td>0</td>\n",
       "      <td>1</td>\n",
       "    </tr>\n",
       "    <tr>\n",
       "      <th>9562</th>\n",
       "      <td>0</td>\n",
       "      <td>1</td>\n",
       "    </tr>\n",
       "    <tr>\n",
       "      <th>9563</th>\n",
       "      <td>0</td>\n",
       "      <td>1</td>\n",
       "    </tr>\n",
       "  </tbody>\n",
       "</table>\n",
       "<p>9218 rows × 2 columns</p>\n",
       "</div>"
      ],
      "text/plain": [
       "      q1_q17_dr24_tce  q1_q17_dr25_tce\n",
       "0                   0                1\n",
       "1                   0                1\n",
       "2                   0                1\n",
       "3                   0                1\n",
       "4                   0                1\n",
       "...               ...              ...\n",
       "9559                0                1\n",
       "9560                0                1\n",
       "9561                0                1\n",
       "9562                0                1\n",
       "9563                0                1\n",
       "\n",
       "[9218 rows x 2 columns]"
      ]
     },
     "execution_count": 21,
     "metadata": {},
     "output_type": "execute_result"
    }
   ],
   "source": [
    "encoded_data = pd.get_dummies(df3['koi_tce_delivname'], dtype=int, drop_first=True)\n",
    "\n",
    "encoded_data"
   ]
  },
  {
   "cell_type": "code",
   "execution_count": 22,
   "id": "b9772a68",
   "metadata": {},
   "outputs": [
    {
     "data": {
      "text/plain": [
       "(9218, 46)"
      ]
     },
     "execution_count": 22,
     "metadata": {},
     "output_type": "execute_result"
    }
   ],
   "source": [
    "df4 = pd.concat([df3, encoded_data], axis=1)\n",
    "df4.shape"
   ]
  },
  {
   "cell_type": "markdown",
   "id": "0c4bd723",
   "metadata": {},
   "source": [
    "## manipulation of categorical (target) column ('koi_disposition')"
   ]
  },
  {
   "cell_type": "code",
   "execution_count": 23,
   "id": "687ea854",
   "metadata": {},
   "outputs": [
    {
     "data": {
      "text/plain": [
       "koi_disposition\n",
       "FALSE POSITIVE    4564\n",
       "CONFIRMED         2350\n",
       "CANDIDATE         2304\n",
       "Name: count, dtype: int64"
      ]
     },
     "execution_count": 23,
     "metadata": {},
     "output_type": "execute_result"
    }
   ],
   "source": [
    "df4['koi_disposition'].value_counts()"
   ]
  },
  {
   "cell_type": "code",
   "execution_count": 24,
   "id": "904e8fd5",
   "metadata": {},
   "outputs": [],
   "source": [
    "le = LabelEncoder()"
   ]
  },
  {
   "cell_type": "code",
   "execution_count": 25,
   "id": "3dcec660",
   "metadata": {},
   "outputs": [
    {
     "data": {
      "text/plain": [
       "array([1, 1, 0, ..., 2, 0, 2])"
      ]
     },
     "execution_count": 25,
     "metadata": {},
     "output_type": "execute_result"
    }
   ],
   "source": [
    "le.fit_transform(df4['koi_disposition'])"
   ]
  },
  {
   "cell_type": "code",
   "execution_count": 26,
   "id": "bb11035e",
   "metadata": {},
   "outputs": [],
   "source": [
    "df4['target_column'] = le.fit_transform(df4['koi_disposition'])"
   ]
  },
  {
   "cell_type": "code",
   "execution_count": 27,
   "id": "038ebeff",
   "metadata": {},
   "outputs": [
    {
     "data": {
      "text/plain": [
       "target_column  koi_disposition\n",
       "2              FALSE POSITIVE     4564\n",
       "1              CONFIRMED          2350\n",
       "0              CANDIDATE          2304\n",
       "Name: count, dtype: int64"
      ]
     },
     "execution_count": 27,
     "metadata": {},
     "output_type": "execute_result"
    }
   ],
   "source": [
    "df4[['target_column', 'koi_disposition']].value_counts()"
   ]
  },
  {
   "cell_type": "markdown",
   "id": "d9df7278",
   "metadata": {},
   "source": [
    "### duplication-check"
   ]
  },
  {
   "cell_type": "code",
   "execution_count": 28,
   "id": "df430077",
   "metadata": {},
   "outputs": [
    {
     "data": {
      "text/plain": [
       "0"
      ]
     },
     "execution_count": 28,
     "metadata": {},
     "output_type": "execute_result"
    }
   ],
   "source": [
    "df4.duplicated().sum()"
   ]
  },
  {
   "cell_type": "code",
   "execution_count": 29,
   "id": "454e4088",
   "metadata": {},
   "outputs": [
    {
     "data": {
      "text/plain": [
       "(9218, 47)"
      ]
     },
     "execution_count": 29,
     "metadata": {},
     "output_type": "execute_result"
    }
   ],
   "source": [
    "df4.shape"
   ]
  },
  {
   "cell_type": "markdown",
   "id": "33926ae5",
   "metadata": {},
   "source": [
    "## preprocessing of data for ML Algorithm"
   ]
  },
  {
   "cell_type": "markdown",
   "id": "3dbc6795",
   "metadata": {},
   "source": [
    "### _training & testing datasets_"
   ]
  },
  {
   "cell_type": "code",
   "execution_count": 30,
   "id": "eea13a46",
   "metadata": {},
   "outputs": [],
   "source": [
    "def train_test_dataset(non_feature_col, target_col, df):    \n",
    "    \n",
    "    X = df.drop(non_feature_col, axis=1)\n",
    "    y = df[target_col]\n",
    "    X_train, X_test, y_train, y_test = train_test_split(X, y, test_size=0.2, random_state=101)    \n",
    "    \n",
    "    return X_train, X_test, y_train, y_test  "
   ]
  },
  {
   "cell_type": "code",
   "execution_count": 31,
   "id": "f0de121e",
   "metadata": {},
   "outputs": [
    {
     "name": "stdout",
     "output_type": "stream",
     "text": [
      "X-train Data:  (7374, 44)\n",
      "y-train Data:  (7374, 1)\n",
      "X-test Data:  (1844, 44)\n",
      "y-test Data:  (1844, 1)\n"
     ]
    }
   ],
   "source": [
    "non_feature_col = ['koi_disposition', 'koi_tce_delivname', 'target_column']\n",
    "target_col = ['target_column']\n",
    "df = df4\n",
    "\n",
    "X_train, X_test, y_train, y_test = train_test_dataset(non_feature_col, target_col, df)\n",
    "\n",
    "print('X-train Data: ', X_train.shape)\n",
    "print('y-train Data: ', y_train.shape)\n",
    "print('X-test Data: ', X_test.shape)\n",
    "print('y-test Data: ', y_test.shape)"
   ]
  },
  {
   "cell_type": "markdown",
   "id": "e8a1f6d1",
   "metadata": {},
   "source": [
    "## ML Model & its parameters"
   ]
  },
  {
   "cell_type": "code",
   "execution_count": 32,
   "id": "90887b42",
   "metadata": {},
   "outputs": [],
   "source": [
    "def model_parameter(scale, model):\n",
    "    \n",
    "    pipeline = Pipeline([('scale', scale), ('model', model)])\n",
    "\n",
    "    return pipeline, pipeline.get_params()"
   ]
  },
  {
   "cell_type": "markdown",
   "id": "df64cc71",
   "metadata": {},
   "source": [
    "# RFC: Random Forest Classifier (model-1)"
   ]
  },
  {
   "cell_type": "code",
   "execution_count": 33,
   "id": "7ea774f9",
   "metadata": {},
   "outputs": [
    {
     "data": {
      "text/plain": [
       "{'memory': None,\n",
       " 'steps': [('scale', StandardScaler()), ('model', RandomForestClassifier())],\n",
       " 'verbose': False,\n",
       " 'scale': StandardScaler(),\n",
       " 'model': RandomForestClassifier(),\n",
       " 'scale__copy': True,\n",
       " 'scale__with_mean': True,\n",
       " 'scale__with_std': True,\n",
       " 'model__bootstrap': True,\n",
       " 'model__ccp_alpha': 0.0,\n",
       " 'model__class_weight': None,\n",
       " 'model__criterion': 'gini',\n",
       " 'model__max_depth': None,\n",
       " 'model__max_features': 'sqrt',\n",
       " 'model__max_leaf_nodes': None,\n",
       " 'model__max_samples': None,\n",
       " 'model__min_impurity_decrease': 0.0,\n",
       " 'model__min_samples_leaf': 1,\n",
       " 'model__min_samples_split': 2,\n",
       " 'model__min_weight_fraction_leaf': 0.0,\n",
       " 'model__n_estimators': 100,\n",
       " 'model__n_jobs': None,\n",
       " 'model__oob_score': False,\n",
       " 'model__random_state': None,\n",
       " 'model__verbose': 0,\n",
       " 'model__warm_start': False}"
      ]
     },
     "execution_count": 33,
     "metadata": {},
     "output_type": "execute_result"
    }
   ],
   "source": [
    "pipeline, pipeline_params = model_parameter(scale=StandardScaler(), model=RandomForestClassifier()) \n",
    "\n",
    "pipeline_params"
   ]
  },
  {
   "cell_type": "code",
   "execution_count": 34,
   "id": "0d19bf2a",
   "metadata": {},
   "outputs": [],
   "source": [
    "parameter = {\n",
    "    'model__n_estimators': [10, 30, 50, 70, 100],\n",
    "    'model__criterion': ['gini', 'entropy'],\n",
    "    'model__max_depth': [None, 10, 20],\n",
    "    'model__min_samples_split': [2, 5]\n",
    "}"
   ]
  },
  {
   "cell_type": "markdown",
   "id": "4693a594",
   "metadata": {},
   "source": [
    "### GridSeach cross-validation for hyper-parameter tuning"
   ]
  },
  {
   "cell_type": "code",
   "execution_count": 35,
   "id": "0238feeb",
   "metadata": {},
   "outputs": [],
   "source": [
    "classifier = RandomizedSearchCV(estimator=pipeline, param_distributions=parameter,\n",
    "                                cv=3, return_train_score=True)"
   ]
  },
  {
   "cell_type": "code",
   "execution_count": 36,
   "id": "957cec76",
   "metadata": {},
   "outputs": [
    {
     "data": {
      "text/html": [
       "<style>#sk-container-id-1 {color: black;background-color: white;}#sk-container-id-1 pre{padding: 0;}#sk-container-id-1 div.sk-toggleable {background-color: white;}#sk-container-id-1 label.sk-toggleable__label {cursor: pointer;display: block;width: 100%;margin-bottom: 0;padding: 0.3em;box-sizing: border-box;text-align: center;}#sk-container-id-1 label.sk-toggleable__label-arrow:before {content: \"▸\";float: left;margin-right: 0.25em;color: #696969;}#sk-container-id-1 label.sk-toggleable__label-arrow:hover:before {color: black;}#sk-container-id-1 div.sk-estimator:hover label.sk-toggleable__label-arrow:before {color: black;}#sk-container-id-1 div.sk-toggleable__content {max-height: 0;max-width: 0;overflow: hidden;text-align: left;background-color: #f0f8ff;}#sk-container-id-1 div.sk-toggleable__content pre {margin: 0.2em;color: black;border-radius: 0.25em;background-color: #f0f8ff;}#sk-container-id-1 input.sk-toggleable__control:checked~div.sk-toggleable__content {max-height: 200px;max-width: 100%;overflow: auto;}#sk-container-id-1 input.sk-toggleable__control:checked~label.sk-toggleable__label-arrow:before {content: \"▾\";}#sk-container-id-1 div.sk-estimator input.sk-toggleable__control:checked~label.sk-toggleable__label {background-color: #d4ebff;}#sk-container-id-1 div.sk-label input.sk-toggleable__control:checked~label.sk-toggleable__label {background-color: #d4ebff;}#sk-container-id-1 input.sk-hidden--visually {border: 0;clip: rect(1px 1px 1px 1px);clip: rect(1px, 1px, 1px, 1px);height: 1px;margin: -1px;overflow: hidden;padding: 0;position: absolute;width: 1px;}#sk-container-id-1 div.sk-estimator {font-family: monospace;background-color: #f0f8ff;border: 1px dotted black;border-radius: 0.25em;box-sizing: border-box;margin-bottom: 0.5em;}#sk-container-id-1 div.sk-estimator:hover {background-color: #d4ebff;}#sk-container-id-1 div.sk-parallel-item::after {content: \"\";width: 100%;border-bottom: 1px solid gray;flex-grow: 1;}#sk-container-id-1 div.sk-label:hover label.sk-toggleable__label {background-color: #d4ebff;}#sk-container-id-1 div.sk-serial::before {content: \"\";position: absolute;border-left: 1px solid gray;box-sizing: border-box;top: 0;bottom: 0;left: 50%;z-index: 0;}#sk-container-id-1 div.sk-serial {display: flex;flex-direction: column;align-items: center;background-color: white;padding-right: 0.2em;padding-left: 0.2em;position: relative;}#sk-container-id-1 div.sk-item {position: relative;z-index: 1;}#sk-container-id-1 div.sk-parallel {display: flex;align-items: stretch;justify-content: center;background-color: white;position: relative;}#sk-container-id-1 div.sk-item::before, #sk-container-id-1 div.sk-parallel-item::before {content: \"\";position: absolute;border-left: 1px solid gray;box-sizing: border-box;top: 0;bottom: 0;left: 50%;z-index: -1;}#sk-container-id-1 div.sk-parallel-item {display: flex;flex-direction: column;z-index: 1;position: relative;background-color: white;}#sk-container-id-1 div.sk-parallel-item:first-child::after {align-self: flex-end;width: 50%;}#sk-container-id-1 div.sk-parallel-item:last-child::after {align-self: flex-start;width: 50%;}#sk-container-id-1 div.sk-parallel-item:only-child::after {width: 0;}#sk-container-id-1 div.sk-dashed-wrapped {border: 1px dashed gray;margin: 0 0.4em 0.5em 0.4em;box-sizing: border-box;padding-bottom: 0.4em;background-color: white;}#sk-container-id-1 div.sk-label label {font-family: monospace;font-weight: bold;display: inline-block;line-height: 1.2em;}#sk-container-id-1 div.sk-label-container {text-align: center;}#sk-container-id-1 div.sk-container {/* jupyter's `normalize.less` sets `[hidden] { display: none; }` but bootstrap.min.css set `[hidden] { display: none !important; }` so we also need the `!important` here to be able to override the default hidden behavior on the sphinx rendered scikit-learn.org. See: https://github.com/scikit-learn/scikit-learn/issues/21755 */display: inline-block !important;position: relative;}#sk-container-id-1 div.sk-text-repr-fallback {display: none;}</style><div id=\"sk-container-id-1\" class=\"sk-top-container\"><div class=\"sk-text-repr-fallback\"><pre>RandomizedSearchCV(cv=3,\n",
       "                   estimator=Pipeline(steps=[(&#x27;scale&#x27;, StandardScaler()),\n",
       "                                             (&#x27;model&#x27;,\n",
       "                                              RandomForestClassifier())]),\n",
       "                   param_distributions={&#x27;model__criterion&#x27;: [&#x27;gini&#x27;, &#x27;entropy&#x27;],\n",
       "                                        &#x27;model__max_depth&#x27;: [None, 10, 20],\n",
       "                                        &#x27;model__min_samples_split&#x27;: [2, 5],\n",
       "                                        &#x27;model__n_estimators&#x27;: [10, 30, 50, 70,\n",
       "                                                                100]},\n",
       "                   return_train_score=True)</pre><b>In a Jupyter environment, please rerun this cell to show the HTML representation or trust the notebook. <br />On GitHub, the HTML representation is unable to render, please try loading this page with nbviewer.org.</b></div><div class=\"sk-container\" hidden><div class=\"sk-item sk-dashed-wrapped\"><div class=\"sk-label-container\"><div class=\"sk-label sk-toggleable\"><input class=\"sk-toggleable__control sk-hidden--visually\" id=\"sk-estimator-id-1\" type=\"checkbox\" ><label for=\"sk-estimator-id-1\" class=\"sk-toggleable__label sk-toggleable__label-arrow\">RandomizedSearchCV</label><div class=\"sk-toggleable__content\"><pre>RandomizedSearchCV(cv=3,\n",
       "                   estimator=Pipeline(steps=[(&#x27;scale&#x27;, StandardScaler()),\n",
       "                                             (&#x27;model&#x27;,\n",
       "                                              RandomForestClassifier())]),\n",
       "                   param_distributions={&#x27;model__criterion&#x27;: [&#x27;gini&#x27;, &#x27;entropy&#x27;],\n",
       "                                        &#x27;model__max_depth&#x27;: [None, 10, 20],\n",
       "                                        &#x27;model__min_samples_split&#x27;: [2, 5],\n",
       "                                        &#x27;model__n_estimators&#x27;: [10, 30, 50, 70,\n",
       "                                                                100]},\n",
       "                   return_train_score=True)</pre></div></div></div><div class=\"sk-parallel\"><div class=\"sk-parallel-item\"><div class=\"sk-item\"><div class=\"sk-label-container\"><div class=\"sk-label sk-toggleable\"><input class=\"sk-toggleable__control sk-hidden--visually\" id=\"sk-estimator-id-2\" type=\"checkbox\" ><label for=\"sk-estimator-id-2\" class=\"sk-toggleable__label sk-toggleable__label-arrow\">estimator: Pipeline</label><div class=\"sk-toggleable__content\"><pre>Pipeline(steps=[(&#x27;scale&#x27;, StandardScaler()),\n",
       "                (&#x27;model&#x27;, RandomForestClassifier())])</pre></div></div></div><div class=\"sk-serial\"><div class=\"sk-item\"><div class=\"sk-serial\"><div class=\"sk-item\"><div class=\"sk-estimator sk-toggleable\"><input class=\"sk-toggleable__control sk-hidden--visually\" id=\"sk-estimator-id-3\" type=\"checkbox\" ><label for=\"sk-estimator-id-3\" class=\"sk-toggleable__label sk-toggleable__label-arrow\">StandardScaler</label><div class=\"sk-toggleable__content\"><pre>StandardScaler()</pre></div></div></div><div class=\"sk-item\"><div class=\"sk-estimator sk-toggleable\"><input class=\"sk-toggleable__control sk-hidden--visually\" id=\"sk-estimator-id-4\" type=\"checkbox\" ><label for=\"sk-estimator-id-4\" class=\"sk-toggleable__label sk-toggleable__label-arrow\">RandomForestClassifier</label><div class=\"sk-toggleable__content\"><pre>RandomForestClassifier()</pre></div></div></div></div></div></div></div></div></div></div></div></div>"
      ],
      "text/plain": [
       "RandomizedSearchCV(cv=3,\n",
       "                   estimator=Pipeline(steps=[('scale', StandardScaler()),\n",
       "                                             ('model',\n",
       "                                              RandomForestClassifier())]),\n",
       "                   param_distributions={'model__criterion': ['gini', 'entropy'],\n",
       "                                        'model__max_depth': [None, 10, 20],\n",
       "                                        'model__min_samples_split': [2, 5],\n",
       "                                        'model__n_estimators': [10, 30, 50, 70,\n",
       "                                                                100]},\n",
       "                   return_train_score=True)"
      ]
     },
     "execution_count": 36,
     "metadata": {},
     "output_type": "execute_result"
    }
   ],
   "source": [
    "classifier.fit(X_train, y_train)"
   ]
  },
  {
   "cell_type": "markdown",
   "id": "a0fa156c",
   "metadata": {},
   "source": [
    "### model metrics, confusion-matrix & classification report"
   ]
  },
  {
   "cell_type": "code",
   "execution_count": 37,
   "id": "c2053e4d",
   "metadata": {},
   "outputs": [
    {
     "data": {
      "text/plain": [
       "0.9143167028199566"
      ]
     },
     "execution_count": 37,
     "metadata": {},
     "output_type": "execute_result"
    }
   ],
   "source": [
    "y_pred = classifier.predict(X_test)\n",
    "metrics.accuracy_score(y_test, y_pred)"
   ]
  },
  {
   "cell_type": "code",
   "execution_count": 38,
   "id": "75e5616a",
   "metadata": {},
   "outputs": [
    {
     "data": {
      "text/plain": [
       "array([[369,  94,  12],\n",
       "       [ 46, 422,   3],\n",
       "       [  1,   2, 895]], dtype=int64)"
      ]
     },
     "execution_count": 38,
     "metadata": {},
     "output_type": "execute_result"
    }
   ],
   "source": [
    "cm = metrics.confusion_matrix(y_test, y_pred)\n",
    "cm"
   ]
  },
  {
   "cell_type": "code",
   "execution_count": 39,
   "id": "3d323386",
   "metadata": {},
   "outputs": [
    {
     "data": {
      "image/png": "[encoded data removed]",
      "text/plain": [
       "<Figure size 600x400 with 2 Axes>"
      ]
     },
     "metadata": {},
     "output_type": "display_data"
    }
   ],
   "source": [
    "plt.figure(figsize=(6, 4))\n",
    "\n",
    "sns.heatmap(cm, annot=True, cmap='coolwarm', fmt='d', lw=0.5, linecolor='black',\n",
    "           xticklabels=['0(Candidate)', '1(Confirmed)', '2(False Positive)'],\n",
    "           yticklabels=['0(Candidate)', '1(Confirmed)', '2(False Positive)'])\n",
    "\n",
    "plt.xlabel('Predicted Label')\n",
    "plt.ylabel('Actual Label')\n",
    "\n",
    "plt.show()"
   ]
  },
  {
   "cell_type": "code",
   "execution_count": 40,
   "id": "f1d9a5a5",
   "metadata": {},
   "outputs": [
    {
     "name": "stdout",
     "output_type": "stream",
     "text": [
      "              precision    recall  f1-score   support\n",
      "\n",
      "           0       0.89      0.78      0.83       475\n",
      "           1       0.81      0.90      0.85       471\n",
      "           2       0.98      1.00      0.99       898\n",
      "\n",
      "    accuracy                           0.91      1844\n",
      "   macro avg       0.90      0.89      0.89      1844\n",
      "weighted avg       0.92      0.91      0.91      1844\n",
      "\n"
     ]
    }
   ],
   "source": [
    "print(metrics.classification_report(y_test, y_pred))"
   ]
  },
  {
   "cell_type": "markdown",
   "id": "4daf01f8",
   "metadata": {},
   "source": [
    "### best estimator & corresponding parameters"
   ]
  },
  {
   "cell_type": "code",
   "execution_count": 41,
   "id": "ed6652fa",
   "metadata": {},
   "outputs": [
    {
     "data": {
      "text/html": [
       "<div>\n",
       "<style scoped>\n",
       "    .dataframe tbody tr th:only-of-type {\n",
       "        vertical-align: middle;\n",
       "    }\n",
       "\n",
       "    .dataframe tbody tr th {\n",
       "        vertical-align: top;\n",
       "    }\n",
       "\n",
       "    .dataframe thead th {\n",
       "        text-align: right;\n",
       "    }\n",
       "</style>\n",
       "<table border=\"1\" class=\"dataframe\">\n",
       "  <thead>\n",
       "    <tr style=\"text-align: right;\">\n",
       "      <th></th>\n",
       "      <th>mean_fit_time</th>\n",
       "      <th>std_fit_time</th>\n",
       "      <th>mean_score_time</th>\n",
       "      <th>std_score_time</th>\n",
       "      <th>param_model__n_estimators</th>\n",
       "      <th>param_model__min_samples_split</th>\n",
       "      <th>param_model__max_depth</th>\n",
       "      <th>param_model__criterion</th>\n",
       "      <th>params</th>\n",
       "      <th>split0_test_score</th>\n",
       "      <th>split1_test_score</th>\n",
       "      <th>split2_test_score</th>\n",
       "      <th>mean_test_score</th>\n",
       "      <th>std_test_score</th>\n",
       "      <th>rank_test_score</th>\n",
       "      <th>split0_train_score</th>\n",
       "      <th>split1_train_score</th>\n",
       "      <th>split2_train_score</th>\n",
       "      <th>mean_train_score</th>\n",
       "      <th>std_train_score</th>\n",
       "    </tr>\n",
       "  </thead>\n",
       "  <tbody>\n",
       "    <tr>\n",
       "      <th>0</th>\n",
       "      <td>0.297734</td>\n",
       "      <td>0.012285</td>\n",
       "      <td>0.005007</td>\n",
       "      <td>0.007081</td>\n",
       "      <td>10</td>\n",
       "      <td>2</td>\n",
       "      <td>None</td>\n",
       "      <td>entropy</td>\n",
       "      <td>{'model__n_estimators': 10, 'model__min_sample...</td>\n",
       "      <td>0.879577</td>\n",
       "      <td>0.896257</td>\n",
       "      <td>0.886086</td>\n",
       "      <td>0.887307</td>\n",
       "      <td>0.006864</td>\n",
       "      <td>10</td>\n",
       "      <td>0.995321</td>\n",
       "      <td>0.993694</td>\n",
       "      <td>0.995728</td>\n",
       "      <td>0.994915</td>\n",
       "      <td>0.000879</td>\n",
       "    </tr>\n",
       "    <tr>\n",
       "      <th>1</th>\n",
       "      <td>0.706351</td>\n",
       "      <td>0.059240</td>\n",
       "      <td>0.020715</td>\n",
       "      <td>0.007659</td>\n",
       "      <td>30</td>\n",
       "      <td>2</td>\n",
       "      <td>None</td>\n",
       "      <td>gini</td>\n",
       "      <td>{'model__n_estimators': 30, 'model__min_sample...</td>\n",
       "      <td>0.900325</td>\n",
       "      <td>0.904394</td>\n",
       "      <td>0.899919</td>\n",
       "      <td>0.901546</td>\n",
       "      <td>0.002021</td>\n",
       "      <td>7</td>\n",
       "      <td>0.998983</td>\n",
       "      <td>0.999797</td>\n",
       "      <td>0.999593</td>\n",
       "      <td>0.999458</td>\n",
       "      <td>0.000346</td>\n",
       "    </tr>\n",
       "    <tr>\n",
       "      <th>2</th>\n",
       "      <td>1.548888</td>\n",
       "      <td>0.125275</td>\n",
       "      <td>0.046630</td>\n",
       "      <td>0.013121</td>\n",
       "      <td>50</td>\n",
       "      <td>5</td>\n",
       "      <td>20</td>\n",
       "      <td>gini</td>\n",
       "      <td>{'model__n_estimators': 50, 'model__min_sample...</td>\n",
       "      <td>0.900732</td>\n",
       "      <td>0.901546</td>\n",
       "      <td>0.901546</td>\n",
       "      <td>0.901275</td>\n",
       "      <td>0.000384</td>\n",
       "      <td>8</td>\n",
       "      <td>0.993491</td>\n",
       "      <td>0.993897</td>\n",
       "      <td>0.994915</td>\n",
       "      <td>0.994101</td>\n",
       "      <td>0.000599</td>\n",
       "    </tr>\n",
       "    <tr>\n",
       "      <th>3</th>\n",
       "      <td>3.748564</td>\n",
       "      <td>0.570340</td>\n",
       "      <td>0.106178</td>\n",
       "      <td>0.050768</td>\n",
       "      <td>100</td>\n",
       "      <td>2</td>\n",
       "      <td>None</td>\n",
       "      <td>gini</td>\n",
       "      <td>{'model__n_estimators': 100, 'model__min_sampl...</td>\n",
       "      <td>0.908462</td>\n",
       "      <td>0.904801</td>\n",
       "      <td>0.907242</td>\n",
       "      <td>0.906835</td>\n",
       "      <td>0.001522</td>\n",
       "      <td>2</td>\n",
       "      <td>1.000000</td>\n",
       "      <td>1.000000</td>\n",
       "      <td>1.000000</td>\n",
       "      <td>1.000000</td>\n",
       "      <td>0.000000</td>\n",
       "    </tr>\n",
       "    <tr>\n",
       "      <th>4</th>\n",
       "      <td>2.669551</td>\n",
       "      <td>0.172606</td>\n",
       "      <td>0.068694</td>\n",
       "      <td>0.008822</td>\n",
       "      <td>50</td>\n",
       "      <td>5</td>\n",
       "      <td>10</td>\n",
       "      <td>gini</td>\n",
       "      <td>{'model__n_estimators': 50, 'model__min_sample...</td>\n",
       "      <td>0.896257</td>\n",
       "      <td>0.897071</td>\n",
       "      <td>0.897884</td>\n",
       "      <td>0.897071</td>\n",
       "      <td>0.000664</td>\n",
       "      <td>9</td>\n",
       "      <td>0.946501</td>\n",
       "      <td>0.947315</td>\n",
       "      <td>0.944467</td>\n",
       "      <td>0.946094</td>\n",
       "      <td>0.001198</td>\n",
       "    </tr>\n",
       "    <tr>\n",
       "      <th>5</th>\n",
       "      <td>6.032830</td>\n",
       "      <td>0.137521</td>\n",
       "      <td>0.117790</td>\n",
       "      <td>0.017666</td>\n",
       "      <td>70</td>\n",
       "      <td>2</td>\n",
       "      <td>20</td>\n",
       "      <td>entropy</td>\n",
       "      <td>{'model__n_estimators': 70, 'model__min_sample...</td>\n",
       "      <td>0.907242</td>\n",
       "      <td>0.906835</td>\n",
       "      <td>0.902360</td>\n",
       "      <td>0.905479</td>\n",
       "      <td>0.002212</td>\n",
       "      <td>4</td>\n",
       "      <td>1.000000</td>\n",
       "      <td>0.998779</td>\n",
       "      <td>1.000000</td>\n",
       "      <td>0.999593</td>\n",
       "      <td>0.000575</td>\n",
       "    </tr>\n",
       "    <tr>\n",
       "      <th>6</th>\n",
       "      <td>2.591325</td>\n",
       "      <td>0.123864</td>\n",
       "      <td>0.043046</td>\n",
       "      <td>0.008094</td>\n",
       "      <td>30</td>\n",
       "      <td>2</td>\n",
       "      <td>None</td>\n",
       "      <td>entropy</td>\n",
       "      <td>{'model__n_estimators': 30, 'model__min_sample...</td>\n",
       "      <td>0.905207</td>\n",
       "      <td>0.902766</td>\n",
       "      <td>0.900325</td>\n",
       "      <td>0.902766</td>\n",
       "      <td>0.001993</td>\n",
       "      <td>5</td>\n",
       "      <td>0.999390</td>\n",
       "      <td>0.999593</td>\n",
       "      <td>0.999593</td>\n",
       "      <td>0.999525</td>\n",
       "      <td>0.000096</td>\n",
       "    </tr>\n",
       "    <tr>\n",
       "      <th>7</th>\n",
       "      <td>5.142927</td>\n",
       "      <td>0.143054</td>\n",
       "      <td>0.083137</td>\n",
       "      <td>0.022493</td>\n",
       "      <td>70</td>\n",
       "      <td>5</td>\n",
       "      <td>10</td>\n",
       "      <td>entropy</td>\n",
       "      <td>{'model__n_estimators': 70, 'model__min_sample...</td>\n",
       "      <td>0.904394</td>\n",
       "      <td>0.902360</td>\n",
       "      <td>0.897884</td>\n",
       "      <td>0.901546</td>\n",
       "      <td>0.002719</td>\n",
       "      <td>6</td>\n",
       "      <td>0.947111</td>\n",
       "      <td>0.944060</td>\n",
       "      <td>0.944060</td>\n",
       "      <td>0.945077</td>\n",
       "      <td>0.001438</td>\n",
       "    </tr>\n",
       "    <tr>\n",
       "      <th>8</th>\n",
       "      <td>8.374042</td>\n",
       "      <td>0.267971</td>\n",
       "      <td>0.111407</td>\n",
       "      <td>0.011617</td>\n",
       "      <td>100</td>\n",
       "      <td>5</td>\n",
       "      <td>20</td>\n",
       "      <td>entropy</td>\n",
       "      <td>{'model__n_estimators': 100, 'model__min_sampl...</td>\n",
       "      <td>0.907242</td>\n",
       "      <td>0.910903</td>\n",
       "      <td>0.901546</td>\n",
       "      <td>0.906564</td>\n",
       "      <td>0.003850</td>\n",
       "      <td>3</td>\n",
       "      <td>0.997762</td>\n",
       "      <td>0.997559</td>\n",
       "      <td>0.997762</td>\n",
       "      <td>0.997695</td>\n",
       "      <td>0.000096</td>\n",
       "    </tr>\n",
       "    <tr>\n",
       "      <th>9</th>\n",
       "      <td>8.762225</td>\n",
       "      <td>0.135028</td>\n",
       "      <td>0.142849</td>\n",
       "      <td>0.014642</td>\n",
       "      <td>100</td>\n",
       "      <td>2</td>\n",
       "      <td>None</td>\n",
       "      <td>entropy</td>\n",
       "      <td>{'model__n_estimators': 100, 'model__min_sampl...</td>\n",
       "      <td>0.909276</td>\n",
       "      <td>0.908462</td>\n",
       "      <td>0.903987</td>\n",
       "      <td>0.907242</td>\n",
       "      <td>0.002325</td>\n",
       "      <td>1</td>\n",
       "      <td>1.000000</td>\n",
       "      <td>1.000000</td>\n",
       "      <td>1.000000</td>\n",
       "      <td>1.000000</td>\n",
       "      <td>0.000000</td>\n",
       "    </tr>\n",
       "  </tbody>\n",
       "</table>\n",
       "</div>"
      ],
      "text/plain": [
       "   mean_fit_time  std_fit_time  mean_score_time  std_score_time  \\\n",
       "0       0.297734      0.012285         0.005007        0.007081   \n",
       "1       0.706351      0.059240         0.020715        0.007659   \n",
       "2       1.548888      0.125275         0.046630        0.013121   \n",
       "3       3.748564      0.570340         0.106178        0.050768   \n",
       "4       2.669551      0.172606         0.068694        0.008822   \n",
       "5       6.032830      0.137521         0.117790        0.017666   \n",
       "6       2.591325      0.123864         0.043046        0.008094   \n",
       "7       5.142927      0.143054         0.083137        0.022493   \n",
       "8       8.374042      0.267971         0.111407        0.011617   \n",
       "9       8.762225      0.135028         0.142849        0.014642   \n",
       "\n",
       "  param_model__n_estimators param_model__min_samples_split  \\\n",
       "0                        10                              2   \n",
       "1                        30                              2   \n",
       "2                        50                              5   \n",
       "3                       100                              2   \n",
       "4                        50                              5   \n",
       "5                        70                              2   \n",
       "6                        30                              2   \n",
       "7                        70                              5   \n",
       "8                       100                              5   \n",
       "9                       100                              2   \n",
       "\n",
       "  param_model__max_depth param_model__criterion  \\\n",
       "0                   None                entropy   \n",
       "1                   None                   gini   \n",
       "2                     20                   gini   \n",
       "3                   None                   gini   \n",
       "4                     10                   gini   \n",
       "5                     20                entropy   \n",
       "6                   None                entropy   \n",
       "7                     10                entropy   \n",
       "8                     20                entropy   \n",
       "9                   None                entropy   \n",
       "\n",
       "                                              params  split0_test_score  \\\n",
       "0  {'model__n_estimators': 10, 'model__min_sample...           0.879577   \n",
       "1  {'model__n_estimators': 30, 'model__min_sample...           0.900325   \n",
       "2  {'model__n_estimators': 50, 'model__min_sample...           0.900732   \n",
       "3  {'model__n_estimators': 100, 'model__min_sampl...           0.908462   \n",
       "4  {'model__n_estimators': 50, 'model__min_sample...           0.896257   \n",
       "5  {'model__n_estimators': 70, 'model__min_sample...           0.907242   \n",
       "6  {'model__n_estimators': 30, 'model__min_sample...           0.905207   \n",
       "7  {'model__n_estimators': 70, 'model__min_sample...           0.904394   \n",
       "8  {'model__n_estimators': 100, 'model__min_sampl...           0.907242   \n",
       "9  {'model__n_estimators': 100, 'model__min_sampl...           0.909276   \n",
       "\n",
       "   split1_test_score  split2_test_score  mean_test_score  std_test_score  \\\n",
       "0           0.896257           0.886086         0.887307        0.006864   \n",
       "1           0.904394           0.899919         0.901546        0.002021   \n",
       "2           0.901546           0.901546         0.901275        0.000384   \n",
       "3           0.904801           0.907242         0.906835        0.001522   \n",
       "4           0.897071           0.897884         0.897071        0.000664   \n",
       "5           0.906835           0.902360         0.905479        0.002212   \n",
       "6           0.902766           0.900325         0.902766        0.001993   \n",
       "7           0.902360           0.897884         0.901546        0.002719   \n",
       "8           0.910903           0.901546         0.906564        0.003850   \n",
       "9           0.908462           0.903987         0.907242        0.002325   \n",
       "\n",
       "   rank_test_score  split0_train_score  split1_train_score  \\\n",
       "0               10            0.995321            0.993694   \n",
       "1                7            0.998983            0.999797   \n",
       "2                8            0.993491            0.993897   \n",
       "3                2            1.000000            1.000000   \n",
       "4                9            0.946501            0.947315   \n",
       "5                4            1.000000            0.998779   \n",
       "6                5            0.999390            0.999593   \n",
       "7                6            0.947111            0.944060   \n",
       "8                3            0.997762            0.997559   \n",
       "9                1            1.000000            1.000000   \n",
       "\n",
       "   split2_train_score  mean_train_score  std_train_score  \n",
       "0            0.995728          0.994915         0.000879  \n",
       "1            0.999593          0.999458         0.000346  \n",
       "2            0.994915          0.994101         0.000599  \n",
       "3            1.000000          1.000000         0.000000  \n",
       "4            0.944467          0.946094         0.001198  \n",
       "5            1.000000          0.999593         0.000575  \n",
       "6            0.999593          0.999525         0.000096  \n",
       "7            0.944060          0.945077         0.001438  \n",
       "8            0.997762          0.997695         0.000096  \n",
       "9            1.000000          1.000000         0.000000  "
      ]
     },
     "execution_count": 41,
     "metadata": {},
     "output_type": "execute_result"
    }
   ],
   "source": [
    "cv_results = classifier.cv_results_\n",
    "result_df = pd.DataFrame(cv_results)\n",
    "result_df"
   ]
  },
  {
   "cell_type": "code",
   "execution_count": 42,
   "id": "369313c7",
   "metadata": {},
   "outputs": [
    {
     "name": "stdout",
     "output_type": "stream",
     "text": [
      "Best estimator:  Pipeline(steps=[('scale', StandardScaler()),\n",
      "                ('model', RandomForestClassifier(criterion='entropy'))])\n",
      "\n",
      "Best value for corresponding parameter:  {'model__n_estimators': 100, 'model__min_samples_split': 2, 'model__max_depth': None, 'model__criterion': 'entropy'}\n",
      "\n",
      "best model score:  0.9072416598860862\n"
     ]
    }
   ],
   "source": [
    "print('Best estimator: ', classifier.best_estimator_)\n",
    "print()\n",
    "print('Best value for corresponding parameter: ', classifier.best_params_)\n",
    "print()\n",
    "print('best model score: ', classifier.best_score_)"
   ]
  },
  {
   "cell_type": "markdown",
   "id": "3a7c9a98",
   "metadata": {},
   "source": [
    "   "
   ]
  },
  {
   "cell_type": "markdown",
   "id": "04c857a9",
   "metadata": {},
   "source": [
    "    "
   ]
  },
  {
   "cell_type": "markdown",
   "id": "6a377bcb",
   "metadata": {},
   "source": [
    "# DTC: Decision Tree Classifier (model-2)"
   ]
  },
  {
   "cell_type": "code",
   "execution_count": 43,
   "id": "82f57e6a",
   "metadata": {},
   "outputs": [],
   "source": [
    "from sklearn.tree import DecisionTreeClassifier"
   ]
  },
  {
   "cell_type": "code",
   "execution_count": 44,
   "id": "1c9e8b2f",
   "metadata": {},
   "outputs": [
    {
     "data": {
      "text/plain": [
       "{'memory': None,\n",
       " 'steps': [('scale', StandardScaler()), ('model', DecisionTreeClassifier())],\n",
       " 'verbose': False,\n",
       " 'scale': StandardScaler(),\n",
       " 'model': DecisionTreeClassifier(),\n",
       " 'scale__copy': True,\n",
       " 'scale__with_mean': True,\n",
       " 'scale__with_std': True,\n",
       " 'model__ccp_alpha': 0.0,\n",
       " 'model__class_weight': None,\n",
       " 'model__criterion': 'gini',\n",
       " 'model__max_depth': None,\n",
       " 'model__max_features': None,\n",
       " 'model__max_leaf_nodes': None,\n",
       " 'model__min_impurity_decrease': 0.0,\n",
       " 'model__min_samples_leaf': 1,\n",
       " 'model__min_samples_split': 2,\n",
       " 'model__min_weight_fraction_leaf': 0.0,\n",
       " 'model__random_state': None,\n",
       " 'model__splitter': 'best'}"
      ]
     },
     "execution_count": 44,
     "metadata": {},
     "output_type": "execute_result"
    }
   ],
   "source": [
    "pipeline, pipeline_params = model_parameter(scale=StandardScaler(), model=DecisionTreeClassifier()) \n",
    "\n",
    "pipeline_params"
   ]
  },
  {
   "cell_type": "code",
   "execution_count": 45,
   "id": "c0b1c5e6",
   "metadata": {},
   "outputs": [],
   "source": [
    "parameter = {\n",
    "    'model__criterion': ['gini', 'entropy'],\n",
    "    'model__max_depth': [None, 10, 20, 30],\n",
    "    'model__min_samples_split': [2, 5, 10],\n",
    "    'model__min_samples_leaf': [1, 2, 4],\n",
    "    'model__max_features': ['auto', 'sqrt', 'log2', None]   \n",
    "}"
   ]
  },
  {
   "cell_type": "code",
   "execution_count": 46,
   "id": "a12e605b",
   "metadata": {},
   "outputs": [],
   "source": [
    "classifier = RandomizedSearchCV(estimator=pipeline, param_distributions=parameter,\n",
    "                                cv=3, return_train_score=True)"
   ]
  },
  {
   "cell_type": "code",
   "execution_count": 47,
   "id": "523b830b",
   "metadata": {},
   "outputs": [
    {
     "data": {
      "text/html": [
       "<style>#sk-container-id-2 {color: black;background-color: white;}#sk-container-id-2 pre{padding: 0;}#sk-container-id-2 div.sk-toggleable {background-color: white;}#sk-container-id-2 label.sk-toggleable__label {cursor: pointer;display: block;width: 100%;margin-bottom: 0;padding: 0.3em;box-sizing: border-box;text-align: center;}#sk-container-id-2 label.sk-toggleable__label-arrow:before {content: \"▸\";float: left;margin-right: 0.25em;color: #696969;}#sk-container-id-2 label.sk-toggleable__label-arrow:hover:before {color: black;}#sk-container-id-2 div.sk-estimator:hover label.sk-toggleable__label-arrow:before {color: black;}#sk-container-id-2 div.sk-toggleable__content {max-height: 0;max-width: 0;overflow: hidden;text-align: left;background-color: #f0f8ff;}#sk-container-id-2 div.sk-toggleable__content pre {margin: 0.2em;color: black;border-radius: 0.25em;background-color: #f0f8ff;}#sk-container-id-2 input.sk-toggleable__control:checked~div.sk-toggleable__content {max-height: 200px;max-width: 100%;overflow: auto;}#sk-container-id-2 input.sk-toggleable__control:checked~label.sk-toggleable__label-arrow:before {content: \"▾\";}#sk-container-id-2 div.sk-estimator input.sk-toggleable__control:checked~label.sk-toggleable__label {background-color: #d4ebff;}#sk-container-id-2 div.sk-label input.sk-toggleable__control:checked~label.sk-toggleable__label {background-color: #d4ebff;}#sk-container-id-2 input.sk-hidden--visually {border: 0;clip: rect(1px 1px 1px 1px);clip: rect(1px, 1px, 1px, 1px);height: 1px;margin: -1px;overflow: hidden;padding: 0;position: absolute;width: 1px;}#sk-container-id-2 div.sk-estimator {font-family: monospace;background-color: #f0f8ff;border: 1px dotted black;border-radius: 0.25em;box-sizing: border-box;margin-bottom: 0.5em;}#sk-container-id-2 div.sk-estimator:hover {background-color: #d4ebff;}#sk-container-id-2 div.sk-parallel-item::after {content: \"\";width: 100%;border-bottom: 1px solid gray;flex-grow: 1;}#sk-container-id-2 div.sk-label:hover label.sk-toggleable__label {background-color: #d4ebff;}#sk-container-id-2 div.sk-serial::before {content: \"\";position: absolute;border-left: 1px solid gray;box-sizing: border-box;top: 0;bottom: 0;left: 50%;z-index: 0;}#sk-container-id-2 div.sk-serial {display: flex;flex-direction: column;align-items: center;background-color: white;padding-right: 0.2em;padding-left: 0.2em;position: relative;}#sk-container-id-2 div.sk-item {position: relative;z-index: 1;}#sk-container-id-2 div.sk-parallel {display: flex;align-items: stretch;justify-content: center;background-color: white;position: relative;}#sk-container-id-2 div.sk-item::before, #sk-container-id-2 div.sk-parallel-item::before {content: \"\";position: absolute;border-left: 1px solid gray;box-sizing: border-box;top: 0;bottom: 0;left: 50%;z-index: -1;}#sk-container-id-2 div.sk-parallel-item {display: flex;flex-direction: column;z-index: 1;position: relative;background-color: white;}#sk-container-id-2 div.sk-parallel-item:first-child::after {align-self: flex-end;width: 50%;}#sk-container-id-2 div.sk-parallel-item:last-child::after {align-self: flex-start;width: 50%;}#sk-container-id-2 div.sk-parallel-item:only-child::after {width: 0;}#sk-container-id-2 div.sk-dashed-wrapped {border: 1px dashed gray;margin: 0 0.4em 0.5em 0.4em;box-sizing: border-box;padding-bottom: 0.4em;background-color: white;}#sk-container-id-2 div.sk-label label {font-family: monospace;font-weight: bold;display: inline-block;line-height: 1.2em;}#sk-container-id-2 div.sk-label-container {text-align: center;}#sk-container-id-2 div.sk-container {/* jupyter's `normalize.less` sets `[hidden] { display: none; }` but bootstrap.min.css set `[hidden] { display: none !important; }` so we also need the `!important` here to be able to override the default hidden behavior on the sphinx rendered scikit-learn.org. See: https://github.com/scikit-learn/scikit-learn/issues/21755 */display: inline-block !important;position: relative;}#sk-container-id-2 div.sk-text-repr-fallback {display: none;}</style><div id=\"sk-container-id-2\" class=\"sk-top-container\"><div class=\"sk-text-repr-fallback\"><pre>RandomizedSearchCV(cv=3,\n",
       "                   estimator=Pipeline(steps=[(&#x27;scale&#x27;, StandardScaler()),\n",
       "                                             (&#x27;model&#x27;,\n",
       "                                              DecisionTreeClassifier())]),\n",
       "                   param_distributions={&#x27;model__criterion&#x27;: [&#x27;gini&#x27;, &#x27;entropy&#x27;],\n",
       "                                        &#x27;model__max_depth&#x27;: [None, 10, 20, 30],\n",
       "                                        &#x27;model__max_features&#x27;: [&#x27;auto&#x27;, &#x27;sqrt&#x27;,\n",
       "                                                                &#x27;log2&#x27;, None],\n",
       "                                        &#x27;model__min_samples_leaf&#x27;: [1, 2, 4],\n",
       "                                        &#x27;model__min_samples_split&#x27;: [2, 5, 10]},\n",
       "                   return_train_score=True)</pre><b>In a Jupyter environment, please rerun this cell to show the HTML representation or trust the notebook. <br />On GitHub, the HTML representation is unable to render, please try loading this page with nbviewer.org.</b></div><div class=\"sk-container\" hidden><div class=\"sk-item sk-dashed-wrapped\"><div class=\"sk-label-container\"><div class=\"sk-label sk-toggleable\"><input class=\"sk-toggleable__control sk-hidden--visually\" id=\"sk-estimator-id-5\" type=\"checkbox\" ><label for=\"sk-estimator-id-5\" class=\"sk-toggleable__label sk-toggleable__label-arrow\">RandomizedSearchCV</label><div class=\"sk-toggleable__content\"><pre>RandomizedSearchCV(cv=3,\n",
       "                   estimator=Pipeline(steps=[(&#x27;scale&#x27;, StandardScaler()),\n",
       "                                             (&#x27;model&#x27;,\n",
       "                                              DecisionTreeClassifier())]),\n",
       "                   param_distributions={&#x27;model__criterion&#x27;: [&#x27;gini&#x27;, &#x27;entropy&#x27;],\n",
       "                                        &#x27;model__max_depth&#x27;: [None, 10, 20, 30],\n",
       "                                        &#x27;model__max_features&#x27;: [&#x27;auto&#x27;, &#x27;sqrt&#x27;,\n",
       "                                                                &#x27;log2&#x27;, None],\n",
       "                                        &#x27;model__min_samples_leaf&#x27;: [1, 2, 4],\n",
       "                                        &#x27;model__min_samples_split&#x27;: [2, 5, 10]},\n",
       "                   return_train_score=True)</pre></div></div></div><div class=\"sk-parallel\"><div class=\"sk-parallel-item\"><div class=\"sk-item\"><div class=\"sk-label-container\"><div class=\"sk-label sk-toggleable\"><input class=\"sk-toggleable__control sk-hidden--visually\" id=\"sk-estimator-id-6\" type=\"checkbox\" ><label for=\"sk-estimator-id-6\" class=\"sk-toggleable__label sk-toggleable__label-arrow\">estimator: Pipeline</label><div class=\"sk-toggleable__content\"><pre>Pipeline(steps=[(&#x27;scale&#x27;, StandardScaler()),\n",
       "                (&#x27;model&#x27;, DecisionTreeClassifier())])</pre></div></div></div><div class=\"sk-serial\"><div class=\"sk-item\"><div class=\"sk-serial\"><div class=\"sk-item\"><div class=\"sk-estimator sk-toggleable\"><input class=\"sk-toggleable__control sk-hidden--visually\" id=\"sk-estimator-id-7\" type=\"checkbox\" ><label for=\"sk-estimator-id-7\" class=\"sk-toggleable__label sk-toggleable__label-arrow\">StandardScaler</label><div class=\"sk-toggleable__content\"><pre>StandardScaler()</pre></div></div></div><div class=\"sk-item\"><div class=\"sk-estimator sk-toggleable\"><input class=\"sk-toggleable__control sk-hidden--visually\" id=\"sk-estimator-id-8\" type=\"checkbox\" ><label for=\"sk-estimator-id-8\" class=\"sk-toggleable__label sk-toggleable__label-arrow\">DecisionTreeClassifier</label><div class=\"sk-toggleable__content\"><pre>DecisionTreeClassifier()</pre></div></div></div></div></div></div></div></div></div></div></div></div>"
      ],
      "text/plain": [
       "RandomizedSearchCV(cv=3,\n",
       "                   estimator=Pipeline(steps=[('scale', StandardScaler()),\n",
       "                                             ('model',\n",
       "                                              DecisionTreeClassifier())]),\n",
       "                   param_distributions={'model__criterion': ['gini', 'entropy'],\n",
       "                                        'model__max_depth': [None, 10, 20, 30],\n",
       "                                        'model__max_features': ['auto', 'sqrt',\n",
       "                                                                'log2', None],\n",
       "                                        'model__min_samples_leaf': [1, 2, 4],\n",
       "                                        'model__min_samples_split': [2, 5, 10]},\n",
       "                   return_train_score=True)"
      ]
     },
     "execution_count": 47,
     "metadata": {},
     "output_type": "execute_result"
    }
   ],
   "source": [
    "classifier.fit(X_train, y_train)"
   ]
  },
  {
   "cell_type": "code",
   "execution_count": 48,
   "id": "f0ebf35c",
   "metadata": {},
   "outputs": [
    {
     "data": {
      "text/plain": [
       "0.8915401301518439"
      ]
     },
     "execution_count": 48,
     "metadata": {},
     "output_type": "execute_result"
    }
   ],
   "source": [
    "y_pred = classifier.predict(X_test)\n",
    "metrics.accuracy_score(y_test, y_pred)"
   ]
  },
  {
   "cell_type": "code",
   "execution_count": 49,
   "id": "fc806182",
   "metadata": {},
   "outputs": [
    {
     "data": {
      "text/plain": [
       "array([[350, 125,   0],\n",
       "       [ 66, 402,   3],\n",
       "       [  2,   4, 892]], dtype=int64)"
      ]
     },
     "execution_count": 49,
     "metadata": {},
     "output_type": "execute_result"
    }
   ],
   "source": [
    "cm = metrics.confusion_matrix(y_test, y_pred)\n",
    "cm"
   ]
  },
  {
   "cell_type": "code",
   "execution_count": 50,
   "id": "67fd46d5",
   "metadata": {},
   "outputs": [
    {
     "data": {
      "image/png": "[encoded data removed]",
      "text/plain": [
       "<Figure size 600x400 with 2 Axes>"
      ]
     },
     "metadata": {},
     "output_type": "display_data"
    }
   ],
   "source": [
    "plt.figure(figsize=(6, 4))\n",
    "\n",
    "sns.heatmap(cm, annot=True, cmap='coolwarm', fmt='d', lw=0.5, linecolor='black',\n",
    "           xticklabels=['0(Candidate)', '1(Confirmed)', '2(False Positive)'],\n",
    "           yticklabels=['0(Candidate)', '1(Confirmed)', '2(False Positive)'])\n",
    "\n",
    "plt.xlabel('Predicted Label')\n",
    "plt.ylabel('Actual Label')\n",
    "\n",
    "plt.show()"
   ]
  },
  {
   "cell_type": "code",
   "execution_count": 51,
   "id": "42c838f5",
   "metadata": {},
   "outputs": [
    {
     "name": "stdout",
     "output_type": "stream",
     "text": [
      "              precision    recall  f1-score   support\n",
      "\n",
      "           0       0.84      0.74      0.78       475\n",
      "           1       0.76      0.85      0.80       471\n",
      "           2       1.00      0.99      0.99       898\n",
      "\n",
      "    accuracy                           0.89      1844\n",
      "   macro avg       0.86      0.86      0.86      1844\n",
      "weighted avg       0.89      0.89      0.89      1844\n",
      "\n"
     ]
    }
   ],
   "source": [
    "print(metrics.classification_report(y_test, y_pred))"
   ]
  },
  {
   "cell_type": "markdown",
   "id": "20770b22",
   "metadata": {},
   "source": [
    "   "
   ]
  },
  {
   "cell_type": "markdown",
   "id": "49f9cf00",
   "metadata": {},
   "source": [
    "   "
   ]
  },
  {
   "cell_type": "markdown",
   "id": "b9f92ec1",
   "metadata": {},
   "source": [
    "# SVC: Support Vector Classifier (model-3)"
   ]
  },
  {
   "cell_type": "code",
   "execution_count": 52,
   "id": "cd657798",
   "metadata": {},
   "outputs": [],
   "source": [
    "from sklearn.svm import SVC"
   ]
  },
  {
   "cell_type": "code",
   "execution_count": 53,
   "id": "88e30a23",
   "metadata": {},
   "outputs": [
    {
     "data": {
      "text/plain": [
       "{'memory': None,\n",
       " 'steps': [('scale', MinMaxScaler()), ('model', SVC())],\n",
       " 'verbose': False,\n",
       " 'scale': MinMaxScaler(),\n",
       " 'model': SVC(),\n",
       " 'scale__clip': False,\n",
       " 'scale__copy': True,\n",
       " 'scale__feature_range': (0, 1),\n",
       " 'model__C': 1.0,\n",
       " 'model__break_ties': False,\n",
       " 'model__cache_size': 200,\n",
       " 'model__class_weight': None,\n",
       " 'model__coef0': 0.0,\n",
       " 'model__decision_function_shape': 'ovr',\n",
       " 'model__degree': 3,\n",
       " 'model__gamma': 'scale',\n",
       " 'model__kernel': 'rbf',\n",
       " 'model__max_iter': -1,\n",
       " 'model__probability': False,\n",
       " 'model__random_state': None,\n",
       " 'model__shrinking': True,\n",
       " 'model__tol': 0.001,\n",
       " 'model__verbose': False}"
      ]
     },
     "execution_count": 53,
     "metadata": {},
     "output_type": "execute_result"
    }
   ],
   "source": [
    "pipeline, pipeline_params = model_parameter(scale=MinMaxScaler(), model=SVC()) \n",
    "\n",
    "pipeline_params"
   ]
  },
  {
   "cell_type": "code",
   "execution_count": 54,
   "id": "b61f7da1",
   "metadata": {},
   "outputs": [],
   "source": [
    "parameter = {\n",
    "    'model__C': [0.1, 1, 10, 50, 100],\n",
    "    'model__kernel': ['linear', 'poly', 'rbf', 'sigmoid'],\n",
    "    'model__gamma': ['scale', 'auto', 0.1, 1],\n",
    "    'model__degree': [2, 3, 4]\n",
    "}"
   ]
  },
  {
   "cell_type": "code",
   "execution_count": 55,
   "id": "a0cac933",
   "metadata": {},
   "outputs": [],
   "source": [
    "classifier = RandomizedSearchCV(estimator=pipeline, param_distributions=parameter,\n",
    "                                cv=3, return_train_score=True)"
   ]
  },
  {
   "cell_type": "code",
   "execution_count": 56,
   "id": "b3ce1509",
   "metadata": {},
   "outputs": [
    {
     "data": {
      "text/html": [
       "<style>#sk-container-id-3 {color: black;background-color: white;}#sk-container-id-3 pre{padding: 0;}#sk-container-id-3 div.sk-toggleable {background-color: white;}#sk-container-id-3 label.sk-toggleable__label {cursor: pointer;display: block;width: 100%;margin-bottom: 0;padding: 0.3em;box-sizing: border-box;text-align: center;}#sk-container-id-3 label.sk-toggleable__label-arrow:before {content: \"▸\";float: left;margin-right: 0.25em;color: #696969;}#sk-container-id-3 label.sk-toggleable__label-arrow:hover:before {color: black;}#sk-container-id-3 div.sk-estimator:hover label.sk-toggleable__label-arrow:before {color: black;}#sk-container-id-3 div.sk-toggleable__content {max-height: 0;max-width: 0;overflow: hidden;text-align: left;background-color: #f0f8ff;}#sk-container-id-3 div.sk-toggleable__content pre {margin: 0.2em;color: black;border-radius: 0.25em;background-color: #f0f8ff;}#sk-container-id-3 input.sk-toggleable__control:checked~div.sk-toggleable__content {max-height: 200px;max-width: 100%;overflow: auto;}#sk-container-id-3 input.sk-toggleable__control:checked~label.sk-toggleable__label-arrow:before {content: \"▾\";}#sk-container-id-3 div.sk-estimator input.sk-toggleable__control:checked~label.sk-toggleable__label {background-color: #d4ebff;}#sk-container-id-3 div.sk-label input.sk-toggleable__control:checked~label.sk-toggleable__label {background-color: #d4ebff;}#sk-container-id-3 input.sk-hidden--visually {border: 0;clip: rect(1px 1px 1px 1px);clip: rect(1px, 1px, 1px, 1px);height: 1px;margin: -1px;overflow: hidden;padding: 0;position: absolute;width: 1px;}#sk-container-id-3 div.sk-estimator {font-family: monospace;background-color: #f0f8ff;border: 1px dotted black;border-radius: 0.25em;box-sizing: border-box;margin-bottom: 0.5em;}#sk-container-id-3 div.sk-estimator:hover {background-color: #d4ebff;}#sk-container-id-3 div.sk-parallel-item::after {content: \"\";width: 100%;border-bottom: 1px solid gray;flex-grow: 1;}#sk-container-id-3 div.sk-label:hover label.sk-toggleable__label {background-color: #d4ebff;}#sk-container-id-3 div.sk-serial::before {content: \"\";position: absolute;border-left: 1px solid gray;box-sizing: border-box;top: 0;bottom: 0;left: 50%;z-index: 0;}#sk-container-id-3 div.sk-serial {display: flex;flex-direction: column;align-items: center;background-color: white;padding-right: 0.2em;padding-left: 0.2em;position: relative;}#sk-container-id-3 div.sk-item {position: relative;z-index: 1;}#sk-container-id-3 div.sk-parallel {display: flex;align-items: stretch;justify-content: center;background-color: white;position: relative;}#sk-container-id-3 div.sk-item::before, #sk-container-id-3 div.sk-parallel-item::before {content: \"\";position: absolute;border-left: 1px solid gray;box-sizing: border-box;top: 0;bottom: 0;left: 50%;z-index: -1;}#sk-container-id-3 div.sk-parallel-item {display: flex;flex-direction: column;z-index: 1;position: relative;background-color: white;}#sk-container-id-3 div.sk-parallel-item:first-child::after {align-self: flex-end;width: 50%;}#sk-container-id-3 div.sk-parallel-item:last-child::after {align-self: flex-start;width: 50%;}#sk-container-id-3 div.sk-parallel-item:only-child::after {width: 0;}#sk-container-id-3 div.sk-dashed-wrapped {border: 1px dashed gray;margin: 0 0.4em 0.5em 0.4em;box-sizing: border-box;padding-bottom: 0.4em;background-color: white;}#sk-container-id-3 div.sk-label label {font-family: monospace;font-weight: bold;display: inline-block;line-height: 1.2em;}#sk-container-id-3 div.sk-label-container {text-align: center;}#sk-container-id-3 div.sk-container {/* jupyter's `normalize.less` sets `[hidden] { display: none; }` but bootstrap.min.css set `[hidden] { display: none !important; }` so we also need the `!important` here to be able to override the default hidden behavior on the sphinx rendered scikit-learn.org. See: https://github.com/scikit-learn/scikit-learn/issues/21755 */display: inline-block !important;position: relative;}#sk-container-id-3 div.sk-text-repr-fallback {display: none;}</style><div id=\"sk-container-id-3\" class=\"sk-top-container\"><div class=\"sk-text-repr-fallback\"><pre>RandomizedSearchCV(cv=3,\n",
       "                   estimator=Pipeline(steps=[(&#x27;scale&#x27;, MinMaxScaler()),\n",
       "                                             (&#x27;model&#x27;, SVC())]),\n",
       "                   param_distributions={&#x27;model__C&#x27;: [0.1, 1, 10, 50, 100],\n",
       "                                        &#x27;model__degree&#x27;: [2, 3, 4],\n",
       "                                        &#x27;model__gamma&#x27;: [&#x27;scale&#x27;, &#x27;auto&#x27;, 0.1,\n",
       "                                                         1],\n",
       "                                        &#x27;model__kernel&#x27;: [&#x27;linear&#x27;, &#x27;poly&#x27;,\n",
       "                                                          &#x27;rbf&#x27;, &#x27;sigmoid&#x27;]},\n",
       "                   return_train_score=True)</pre><b>In a Jupyter environment, please rerun this cell to show the HTML representation or trust the notebook. <br />On GitHub, the HTML representation is unable to render, please try loading this page with nbviewer.org.</b></div><div class=\"sk-container\" hidden><div class=\"sk-item sk-dashed-wrapped\"><div class=\"sk-label-container\"><div class=\"sk-label sk-toggleable\"><input class=\"sk-toggleable__control sk-hidden--visually\" id=\"sk-estimator-id-9\" type=\"checkbox\" ><label for=\"sk-estimator-id-9\" class=\"sk-toggleable__label sk-toggleable__label-arrow\">RandomizedSearchCV</label><div class=\"sk-toggleable__content\"><pre>RandomizedSearchCV(cv=3,\n",
       "                   estimator=Pipeline(steps=[(&#x27;scale&#x27;, MinMaxScaler()),\n",
       "                                             (&#x27;model&#x27;, SVC())]),\n",
       "                   param_distributions={&#x27;model__C&#x27;: [0.1, 1, 10, 50, 100],\n",
       "                                        &#x27;model__degree&#x27;: [2, 3, 4],\n",
       "                                        &#x27;model__gamma&#x27;: [&#x27;scale&#x27;, &#x27;auto&#x27;, 0.1,\n",
       "                                                         1],\n",
       "                                        &#x27;model__kernel&#x27;: [&#x27;linear&#x27;, &#x27;poly&#x27;,\n",
       "                                                          &#x27;rbf&#x27;, &#x27;sigmoid&#x27;]},\n",
       "                   return_train_score=True)</pre></div></div></div><div class=\"sk-parallel\"><div class=\"sk-parallel-item\"><div class=\"sk-item\"><div class=\"sk-label-container\"><div class=\"sk-label sk-toggleable\"><input class=\"sk-toggleable__control sk-hidden--visually\" id=\"sk-estimator-id-10\" type=\"checkbox\" ><label for=\"sk-estimator-id-10\" class=\"sk-toggleable__label sk-toggleable__label-arrow\">estimator: Pipeline</label><div class=\"sk-toggleable__content\"><pre>Pipeline(steps=[(&#x27;scale&#x27;, MinMaxScaler()), (&#x27;model&#x27;, SVC())])</pre></div></div></div><div class=\"sk-serial\"><div class=\"sk-item\"><div class=\"sk-serial\"><div class=\"sk-item\"><div class=\"sk-estimator sk-toggleable\"><input class=\"sk-toggleable__control sk-hidden--visually\" id=\"sk-estimator-id-11\" type=\"checkbox\" ><label for=\"sk-estimator-id-11\" class=\"sk-toggleable__label sk-toggleable__label-arrow\">MinMaxScaler</label><div class=\"sk-toggleable__content\"><pre>MinMaxScaler()</pre></div></div></div><div class=\"sk-item\"><div class=\"sk-estimator sk-toggleable\"><input class=\"sk-toggleable__control sk-hidden--visually\" id=\"sk-estimator-id-12\" type=\"checkbox\" ><label for=\"sk-estimator-id-12\" class=\"sk-toggleable__label sk-toggleable__label-arrow\">SVC</label><div class=\"sk-toggleable__content\"><pre>SVC()</pre></div></div></div></div></div></div></div></div></div></div></div></div>"
      ],
      "text/plain": [
       "RandomizedSearchCV(cv=3,\n",
       "                   estimator=Pipeline(steps=[('scale', MinMaxScaler()),\n",
       "                                             ('model', SVC())]),\n",
       "                   param_distributions={'model__C': [0.1, 1, 10, 50, 100],\n",
       "                                        'model__degree': [2, 3, 4],\n",
       "                                        'model__gamma': ['scale', 'auto', 0.1,\n",
       "                                                         1],\n",
       "                                        'model__kernel': ['linear', 'poly',\n",
       "                                                          'rbf', 'sigmoid']},\n",
       "                   return_train_score=True)"
      ]
     },
     "execution_count": 56,
     "metadata": {},
     "output_type": "execute_result"
    }
   ],
   "source": [
    "classifier.fit(X_train, y_train)"
   ]
  },
  {
   "cell_type": "code",
   "execution_count": 57,
   "id": "c998565f",
   "metadata": {},
   "outputs": [
    {
     "data": {
      "text/plain": [
       "0.89587852494577"
      ]
     },
     "execution_count": 57,
     "metadata": {},
     "output_type": "execute_result"
    }
   ],
   "source": [
    "y_pred = classifier.predict(X_test)\n",
    "metrics.accuracy_score(y_test, y_pred)"
   ]
  },
  {
   "cell_type": "code",
   "execution_count": 58,
   "id": "97554aa1",
   "metadata": {},
   "outputs": [
    {
     "data": {
      "text/plain": [
       "array([[331, 144,   0],\n",
       "       [ 40, 425,   6],\n",
       "       [  1,   1, 896]], dtype=int64)"
      ]
     },
     "execution_count": 58,
     "metadata": {},
     "output_type": "execute_result"
    }
   ],
   "source": [
    "cm = metrics.confusion_matrix(y_test, y_pred)\n",
    "cm"
   ]
  },
  {
   "cell_type": "code",
   "execution_count": 59,
   "id": "72af4ca4",
   "metadata": {},
   "outputs": [
    {
     "data": {
      "image/png": "[encoded data removed]",
      "text/plain": [
       "<Figure size 600x400 with 2 Axes>"
      ]
     },
     "metadata": {},
     "output_type": "display_data"
    }
   ],
   "source": [
    "plt.figure(figsize=(6, 4))\n",
    "\n",
    "sns.heatmap(cm, annot=True, cmap='coolwarm', fmt='d', lw=0.5, linecolor='black',\n",
    "           xticklabels=['0(Candidate)', '1(Confirmed)', '2(False Positive)'],\n",
    "           yticklabels=['0(Candidate)', '1(Confirmed)', '2(False Positive)'])\n",
    "\n",
    "plt.xlabel('Predicted Label')\n",
    "plt.ylabel('Actual Label')\n",
    "\n",
    "plt.show()"
   ]
  },
  {
   "cell_type": "code",
   "execution_count": 60,
   "id": "302f0fed",
   "metadata": {},
   "outputs": [
    {
     "name": "stdout",
     "output_type": "stream",
     "text": [
      "              precision    recall  f1-score   support\n",
      "\n",
      "           0       0.89      0.70      0.78       475\n",
      "           1       0.75      0.90      0.82       471\n",
      "           2       0.99      1.00      1.00       898\n",
      "\n",
      "    accuracy                           0.90      1844\n",
      "   macro avg       0.88      0.87      0.86      1844\n",
      "weighted avg       0.90      0.90      0.89      1844\n",
      "\n"
     ]
    }
   ],
   "source": [
    "print(metrics.classification_report(y_test, y_pred))"
   ]
  },
  {
   "cell_type": "markdown",
   "id": "9685459c",
   "metadata": {},
   "source": [
    "   "
   ]
  },
  {
   "cell_type": "markdown",
   "id": "e0b37fad",
   "metadata": {},
   "source": [
    "     "
   ]
  },
  {
   "cell_type": "markdown",
   "id": "eafd5e1d",
   "metadata": {},
   "source": [
    "# KNN Classifier (model-4)"
   ]
  },
  {
   "cell_type": "code",
   "execution_count": 61,
   "id": "01291e90",
   "metadata": {},
   "outputs": [],
   "source": [
    "from sklearn.neighbors import KNeighborsClassifier"
   ]
  },
  {
   "cell_type": "code",
   "execution_count": 62,
   "id": "7ef90ccb",
   "metadata": {},
   "outputs": [
    {
     "data": {
      "text/plain": [
       "{'memory': None,\n",
       " 'steps': [('scale', MinMaxScaler()), ('model', KNeighborsClassifier())],\n",
       " 'verbose': False,\n",
       " 'scale': MinMaxScaler(),\n",
       " 'model': KNeighborsClassifier(),\n",
       " 'scale__clip': False,\n",
       " 'scale__copy': True,\n",
       " 'scale__feature_range': (0, 1),\n",
       " 'model__algorithm': 'auto',\n",
       " 'model__leaf_size': 30,\n",
       " 'model__metric': 'minkowski',\n",
       " 'model__metric_params': None,\n",
       " 'model__n_jobs': None,\n",
       " 'model__n_neighbors': 5,\n",
       " 'model__p': 2,\n",
       " 'model__weights': 'uniform'}"
      ]
     },
     "execution_count": 62,
     "metadata": {},
     "output_type": "execute_result"
    }
   ],
   "source": [
    "pipeline, pipeline_params = model_parameter(scale=MinMaxScaler(), model=KNeighborsClassifier()) \n",
    "\n",
    "pipeline_params"
   ]
  },
  {
   "cell_type": "code",
   "execution_count": 63,
   "id": "4dd23d0f",
   "metadata": {},
   "outputs": [],
   "source": [
    "parameter = {\n",
    "     'model__n_neighbors': [3, 5, 7, 9],\n",
    "     'model__weights': ['uniform', 'distance'],\n",
    "     'model__p': [1, 2]\n",
    "}"
   ]
  },
  {
   "cell_type": "code",
   "execution_count": 64,
   "id": "102b35b3",
   "metadata": {},
   "outputs": [],
   "source": [
    "classifier = RandomizedSearchCV(estimator=pipeline, param_distributions=parameter,\n",
    "                                cv=3, return_train_score=True)"
   ]
  },
  {
   "cell_type": "code",
   "execution_count": 65,
   "id": "a65aac91",
   "metadata": {},
   "outputs": [
    {
     "data": {
      "text/html": [
       "<style>#sk-container-id-4 {color: black;background-color: white;}#sk-container-id-4 pre{padding: 0;}#sk-container-id-4 div.sk-toggleable {background-color: white;}#sk-container-id-4 label.sk-toggleable__label {cursor: pointer;display: block;width: 100%;margin-bottom: 0;padding: 0.3em;box-sizing: border-box;text-align: center;}#sk-container-id-4 label.sk-toggleable__label-arrow:before {content: \"▸\";float: left;margin-right: 0.25em;color: #696969;}#sk-container-id-4 label.sk-toggleable__label-arrow:hover:before {color: black;}#sk-container-id-4 div.sk-estimator:hover label.sk-toggleable__label-arrow:before {color: black;}#sk-container-id-4 div.sk-toggleable__content {max-height: 0;max-width: 0;overflow: hidden;text-align: left;background-color: #f0f8ff;}#sk-container-id-4 div.sk-toggleable__content pre {margin: 0.2em;color: black;border-radius: 0.25em;background-color: #f0f8ff;}#sk-container-id-4 input.sk-toggleable__control:checked~div.sk-toggleable__content {max-height: 200px;max-width: 100%;overflow: auto;}#sk-container-id-4 input.sk-toggleable__control:checked~label.sk-toggleable__label-arrow:before {content: \"▾\";}#sk-container-id-4 div.sk-estimator input.sk-toggleable__control:checked~label.sk-toggleable__label {background-color: #d4ebff;}#sk-container-id-4 div.sk-label input.sk-toggleable__control:checked~label.sk-toggleable__label {background-color: #d4ebff;}#sk-container-id-4 input.sk-hidden--visually {border: 0;clip: rect(1px 1px 1px 1px);clip: rect(1px, 1px, 1px, 1px);height: 1px;margin: -1px;overflow: hidden;padding: 0;position: absolute;width: 1px;}#sk-container-id-4 div.sk-estimator {font-family: monospace;background-color: #f0f8ff;border: 1px dotted black;border-radius: 0.25em;box-sizing: border-box;margin-bottom: 0.5em;}#sk-container-id-4 div.sk-estimator:hover {background-color: #d4ebff;}#sk-container-id-4 div.sk-parallel-item::after {content: \"\";width: 100%;border-bottom: 1px solid gray;flex-grow: 1;}#sk-container-id-4 div.sk-label:hover label.sk-toggleable__label {background-color: #d4ebff;}#sk-container-id-4 div.sk-serial::before {content: \"\";position: absolute;border-left: 1px solid gray;box-sizing: border-box;top: 0;bottom: 0;left: 50%;z-index: 0;}#sk-container-id-4 div.sk-serial {display: flex;flex-direction: column;align-items: center;background-color: white;padding-right: 0.2em;padding-left: 0.2em;position: relative;}#sk-container-id-4 div.sk-item {position: relative;z-index: 1;}#sk-container-id-4 div.sk-parallel {display: flex;align-items: stretch;justify-content: center;background-color: white;position: relative;}#sk-container-id-4 div.sk-item::before, #sk-container-id-4 div.sk-parallel-item::before {content: \"\";position: absolute;border-left: 1px solid gray;box-sizing: border-box;top: 0;bottom: 0;left: 50%;z-index: -1;}#sk-container-id-4 div.sk-parallel-item {display: flex;flex-direction: column;z-index: 1;position: relative;background-color: white;}#sk-container-id-4 div.sk-parallel-item:first-child::after {align-self: flex-end;width: 50%;}#sk-container-id-4 div.sk-parallel-item:last-child::after {align-self: flex-start;width: 50%;}#sk-container-id-4 div.sk-parallel-item:only-child::after {width: 0;}#sk-container-id-4 div.sk-dashed-wrapped {border: 1px dashed gray;margin: 0 0.4em 0.5em 0.4em;box-sizing: border-box;padding-bottom: 0.4em;background-color: white;}#sk-container-id-4 div.sk-label label {font-family: monospace;font-weight: bold;display: inline-block;line-height: 1.2em;}#sk-container-id-4 div.sk-label-container {text-align: center;}#sk-container-id-4 div.sk-container {/* jupyter's `normalize.less` sets `[hidden] { display: none; }` but bootstrap.min.css set `[hidden] { display: none !important; }` so we also need the `!important` here to be able to override the default hidden behavior on the sphinx rendered scikit-learn.org. See: https://github.com/scikit-learn/scikit-learn/issues/21755 */display: inline-block !important;position: relative;}#sk-container-id-4 div.sk-text-repr-fallback {display: none;}</style><div id=\"sk-container-id-4\" class=\"sk-top-container\"><div class=\"sk-text-repr-fallback\"><pre>RandomizedSearchCV(cv=3,\n",
       "                   estimator=Pipeline(steps=[(&#x27;scale&#x27;, MinMaxScaler()),\n",
       "                                             (&#x27;model&#x27;,\n",
       "                                              KNeighborsClassifier())]),\n",
       "                   param_distributions={&#x27;model__n_neighbors&#x27;: [3, 5, 7, 9],\n",
       "                                        &#x27;model__p&#x27;: [1, 2],\n",
       "                                        &#x27;model__weights&#x27;: [&#x27;uniform&#x27;,\n",
       "                                                           &#x27;distance&#x27;]},\n",
       "                   return_train_score=True)</pre><b>In a Jupyter environment, please rerun this cell to show the HTML representation or trust the notebook. <br />On GitHub, the HTML representation is unable to render, please try loading this page with nbviewer.org.</b></div><div class=\"sk-container\" hidden><div class=\"sk-item sk-dashed-wrapped\"><div class=\"sk-label-container\"><div class=\"sk-label sk-toggleable\"><input class=\"sk-toggleable__control sk-hidden--visually\" id=\"sk-estimator-id-13\" type=\"checkbox\" ><label for=\"sk-estimator-id-13\" class=\"sk-toggleable__label sk-toggleable__label-arrow\">RandomizedSearchCV</label><div class=\"sk-toggleable__content\"><pre>RandomizedSearchCV(cv=3,\n",
       "                   estimator=Pipeline(steps=[(&#x27;scale&#x27;, MinMaxScaler()),\n",
       "                                             (&#x27;model&#x27;,\n",
       "                                              KNeighborsClassifier())]),\n",
       "                   param_distributions={&#x27;model__n_neighbors&#x27;: [3, 5, 7, 9],\n",
       "                                        &#x27;model__p&#x27;: [1, 2],\n",
       "                                        &#x27;model__weights&#x27;: [&#x27;uniform&#x27;,\n",
       "                                                           &#x27;distance&#x27;]},\n",
       "                   return_train_score=True)</pre></div></div></div><div class=\"sk-parallel\"><div class=\"sk-parallel-item\"><div class=\"sk-item\"><div class=\"sk-label-container\"><div class=\"sk-label sk-toggleable\"><input class=\"sk-toggleable__control sk-hidden--visually\" id=\"sk-estimator-id-14\" type=\"checkbox\" ><label for=\"sk-estimator-id-14\" class=\"sk-toggleable__label sk-toggleable__label-arrow\">estimator: Pipeline</label><div class=\"sk-toggleable__content\"><pre>Pipeline(steps=[(&#x27;scale&#x27;, MinMaxScaler()), (&#x27;model&#x27;, KNeighborsClassifier())])</pre></div></div></div><div class=\"sk-serial\"><div class=\"sk-item\"><div class=\"sk-serial\"><div class=\"sk-item\"><div class=\"sk-estimator sk-toggleable\"><input class=\"sk-toggleable__control sk-hidden--visually\" id=\"sk-estimator-id-15\" type=\"checkbox\" ><label for=\"sk-estimator-id-15\" class=\"sk-toggleable__label sk-toggleable__label-arrow\">MinMaxScaler</label><div class=\"sk-toggleable__content\"><pre>MinMaxScaler()</pre></div></div></div><div class=\"sk-item\"><div class=\"sk-estimator sk-toggleable\"><input class=\"sk-toggleable__control sk-hidden--visually\" id=\"sk-estimator-id-16\" type=\"checkbox\" ><label for=\"sk-estimator-id-16\" class=\"sk-toggleable__label sk-toggleable__label-arrow\">KNeighborsClassifier</label><div class=\"sk-toggleable__content\"><pre>KNeighborsClassifier()</pre></div></div></div></div></div></div></div></div></div></div></div></div>"
      ],
      "text/plain": [
       "RandomizedSearchCV(cv=3,\n",
       "                   estimator=Pipeline(steps=[('scale', MinMaxScaler()),\n",
       "                                             ('model',\n",
       "                                              KNeighborsClassifier())]),\n",
       "                   param_distributions={'model__n_neighbors': [3, 5, 7, 9],\n",
       "                                        'model__p': [1, 2],\n",
       "                                        'model__weights': ['uniform',\n",
       "                                                           'distance']},\n",
       "                   return_train_score=True)"
      ]
     },
     "execution_count": 65,
     "metadata": {},
     "output_type": "execute_result"
    }
   ],
   "source": [
    "classifier.fit(X_train, y_train)"
   ]
  },
  {
   "cell_type": "code",
   "execution_count": 66,
   "id": "064e80b9",
   "metadata": {},
   "outputs": [
    {
     "data": {
      "text/plain": [
       "0.8557483731019523"
      ]
     },
     "execution_count": 66,
     "metadata": {},
     "output_type": "execute_result"
    }
   ],
   "source": [
    "y_pred = classifier.predict(X_test)\n",
    "metrics.accuracy_score(y_test, y_pred)"
   ]
  },
  {
   "cell_type": "code",
   "execution_count": 67,
   "id": "acf8bb70",
   "metadata": {},
   "outputs": [
    {
     "data": {
      "text/plain": [
       "array([[280, 195,   0],\n",
       "       [ 60, 406,   5],\n",
       "       [  4,   2, 892]], dtype=int64)"
      ]
     },
     "execution_count": 67,
     "metadata": {},
     "output_type": "execute_result"
    }
   ],
   "source": [
    "cm = metrics.confusion_matrix(y_test, y_pred)\n",
    "cm"
   ]
  },
  {
   "cell_type": "code",
   "execution_count": 68,
   "id": "fd913504",
   "metadata": {},
   "outputs": [
    {
     "data": {
      "image/png": "[encoded data removed]",
      "text/plain": [
       "<Figure size 600x400 with 2 Axes>"
      ]
     },
     "metadata": {},
     "output_type": "display_data"
    }
   ],
   "source": [
    "plt.figure(figsize=(6, 4))\n",
    "\n",
    "sns.heatmap(cm, annot=True, cmap='coolwarm', fmt='d', lw=0.5, linecolor='black',\n",
    "           xticklabels=['0(Candidate)', '1(Confirmed)', '2(False Positive)'],\n",
    "           yticklabels=['0(Candidate)', '1(Confirmed)', '2(False Positive)'])\n",
    "\n",
    "plt.xlabel('Predicted Label')\n",
    "plt.ylabel('Actual Label')\n",
    "\n",
    "plt.show()"
   ]
  },
  {
   "cell_type": "code",
   "execution_count": 69,
   "id": "d444055c",
   "metadata": {},
   "outputs": [
    {
     "name": "stdout",
     "output_type": "stream",
     "text": [
      "              precision    recall  f1-score   support\n",
      "\n",
      "           0       0.81      0.59      0.68       475\n",
      "           1       0.67      0.86      0.76       471\n",
      "           2       0.99      0.99      0.99       898\n",
      "\n",
      "    accuracy                           0.86      1844\n",
      "   macro avg       0.83      0.81      0.81      1844\n",
      "weighted avg       0.87      0.86      0.85      1844\n",
      "\n"
     ]
    }
   ],
   "source": [
    "print(metrics.classification_report(y_test, y_pred))"
   ]
  },
  {
   "cell_type": "markdown",
   "id": "8afc02a2",
   "metadata": {},
   "source": [
    "   "
   ]
  },
  {
   "cell_type": "markdown",
   "id": "def5a75f",
   "metadata": {},
   "source": [
    "      "
   ]
  },
  {
   "cell_type": "markdown",
   "id": "aa4da061",
   "metadata": {},
   "source": [
    "## Addition Questions"
   ]
  },
  {
   "cell_type": "markdown",
   "id": "2370301c",
   "metadata": {},
   "source": [
    "#### Q1. Why did you choose the particular algorithm?\n",
    "\n",
    "\n",
    "\n",
    "\n",
    "\n"
   ]
  },
  {
   "cell_type": "markdown",
   "id": "7a16a8aa",
   "metadata": {},
   "source": [
    "I used the above-mentioned classification algorithms (RFC, DTC, SVC, and KNN Classifier) to classify planets as Candidate/False positive/Confirmed.\n",
    "\n",
    "RFC & DTC (consider all features at one for a single path i.e easy to train as compared to random forest classifier) perform well in terms of:    \n",
    "\n",
    "   * handling the non-linear complex datasets because of its tree like nature\n",
    "   * handling the outliers (BUT, over-fitting should be taken care!)\n",
    "  \n",
    "\n",
    "Although training is more time consuming in RFC because of more computataion for multiple decision tree, I however chose RFC as my final model here because it produced the best metrics in every run."
   ]
  },
  {
   "cell_type": "markdown",
   "id": "ff76968e",
   "metadata": {},
   "source": [
    "#### Q2. What are the different tuning methods used for the algorithm?"
   ]
  },
  {
   "cell_type": "markdown",
   "id": "e0595ce4",
   "metadata": {},
   "source": [
    "Tuning hyperparameters is an important step in optimizing the performance of machine learning classifiers. Here are some popular tuning approaches for ML algorithms:\n",
    "\n",
    "1. Grid Search\n",
    "\n",
    "2. Random Search\n",
    "\n",
    "3. Cross-Validation\n",
    "\n",
    "4. Feature Engineering\n",
    "\n",
    "5. Choosing proper learning rate\n"
   ]
  },
  {
   "cell_type": "markdown",
   "id": "11094bca",
   "metadata": {},
   "source": [
    "#### Q3. Did you consider any other choice of algorithm?Why or why not?"
   ]
  },
  {
   "cell_type": "markdown",
   "id": "dafc12a0",
   "metadata": {},
   "source": [
    "I chose the four different algorithm along with their different hyperparameter values to determine the best model.\n",
    "\n",
    "I trained the model with Randomized Search & RFC performed well over other model.\n",
    "\n",
    "Also, RFC can handel large non-linear complex datasets. It is more robust to noise & outlier because of averaging out the multiple trees. \n",
    "\n",
    "That's why RFC should be considered as the best model here!"
   ]
  },
  {
   "cell_type": "markdown",
   "id": "b4faba35",
   "metadata": {},
   "source": [
    "#### Q4. What is the accuracy?"
   ]
  },
  {
   "cell_type": "markdown",
   "id": "7354606b",
   "metadata": {},
   "source": [
    "Accuracy: It is the ratio of number of correct predictions to the total number of input samples.\n",
    "\n",
    "   * Accuracy = (TP + TN) / (TP + FP + FN + TN)\n",
    "   * It works well for balanced datasets\n",
    "    "
   ]
  },
  {
   "cell_type": "markdown",
   "id": "03326260",
   "metadata": {},
   "source": [
    "#### Q5. What are the different types of metrics that can be used to evaluate the model?"
   ]
  },
  {
   "cell_type": "markdown",
   "id": "e72c6fb9",
   "metadata": {},
   "source": [
    "1. Model Training Score: model.score(X_train, y_train)\n",
    "\n",
    "\n",
    "2. Model Testing Score: model.score(X_test, y_test)\n",
    "<br>\n",
    "\n",
    "3. Precision: (Ratio of correctly classified positive samples to total number of classified positive samples)\n",
    "\n",
    "     * Precision = TP / (TP+FP)            \n",
    "     * Precision tells about, What proportion of positive identifications was actually correct.\n",
    "<br> \n",
    "\n",
    "\n",
    "4. Recall: (ratio between the numbers of Positive samples correctly classified as Positive to the total number of Positive samples)\n",
    "\n",
    "     * Recall = TP / (TP+FN)\n",
    "     * Recall tells about, What proportion of actual positives was identified correctly?             \n",
    "<br>\n",
    "\n",
    "\n",
    "5. F1 Score: (harmonic mean of precision & recall)\n",
    "               \n",
    "     * F1-score = ( 2 * (precision * recall) / (precision + recall) )\n",
    "\n",
    "<br>\n",
    "TP: True Positive, FP: False Positive\n",
    "\n",
    "FN: False Negative, TN: True Negative"
   ]
  },
  {
   "cell_type": "markdown",
   "id": "ff970396",
   "metadata": {},
   "source": [
    "     "
   ]
  },
  {
   "cell_type": "markdown",
   "id": "b1993a2c",
   "metadata": {},
   "source": [
    "     "
   ]
  }
 ],
 "metadata": {
  "kernelspec": {
   "display_name": "Python 3 (ipykernel)",
   "language": "python",
   "name": "python3"
  },
  "language_info": {
   "codemirror_mode": {
    "name": "ipython",
    "version": 3
   },
   "file_extension": ".py",
   "mimetype": "text/x-python",
   "name": "python",
   "nbconvert_exporter": "python",
   "pygments_lexer": "ipython3",
   "version": "3.8.10"
  }
 },
 "nbformat": 4,
 "nbformat_minor": 5
}
